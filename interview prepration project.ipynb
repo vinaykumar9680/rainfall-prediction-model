{
 "cells": [
  {
   "cell_type": "markdown",
   "id": "5c0a65c7-c6f5-48fa-a798-c5b63c900ebe",
   "metadata": {},
   "source": [
    "# <B>  Additional Question </B>"
   ]
  },
  {
   "cell_type": "markdown",
   "id": "d2c7f924-65c5-45de-922b-437107d387b1",
   "metadata": {},
   "source": [
    "## <B> Q1. Your views about the problem statement? "
   ]
  },
  {
   "cell_type": "markdown",
   "id": "1400b68e-57c2-4033-bb6e-3cd9e91eadd4",
   "metadata": {},
   "source": [
    "- **Company Background:** The Daily Buzz is a small newspaper company based in Sydney, known for its high-quality journalism and commitment to truth.\n",
    "Over the years, it grew from a small operation with limited resources into one of the most respected news sources in Sydney.\n",
    "- **Dataset Description:** The weather data from 2008 to 2017 in Sydney, containing 18 features such as temperature, humidity, cloud coverage, pressure, and rainfall.\n",
    "- **Classification task:** Use Decision Trees and Ensemble Methods like Random Forest and Gradient Boosting.we also have some methods like Logistic regression and KNN(K- nearest neighbour) and LDA(Linear discriminant analysis).\n",
    "- **Evaluation criteria:** Compare the accuracy of each model, using metrics like accuracy score and confusion matrix.\n",
    "  - **confusion matrix :** A confusion matrix is a performance measurement tool used for classification models. It helps to visualize how well a model has    predicted classifications, especially when the outcomes are binary or multi-class. The matrix displays the true values versus the predicted values in a    tabular format.\n",
    "  - **Accuracy score :** The accuracy score is a common evaluation metric used to measure the performance of classification models. It represents the    p    proportion of correct predictions made by the model out of all the predictions. In other words, it tells you how often the model is correct. \n",
    "- **Data Preprocessing:** Data Preprocessing is most important task as it involves tasks like handling missing values, outliers, categorical variables, normalization, and feature selection."
   ]
  },
  {
   "cell_type": "markdown",
   "id": "d449ce63-d84a-4e7c-8f48-fff51dc4c620",
   "metadata": {},
   "source": [
    "## <B> Q2. What will be your approach to solving this task?"
   ]
  },
  {
   "cell_type": "markdown",
   "id": "8b246e23-3431-4db2-97e7-f129c7e50b4e",
   "metadata": {},
   "source": [
    "##### Task : To create the Regression model for prediction of salary of new joining employees\n",
    "\n",
    "- **Data anlysing and loading:**\n",
    "  - In this step, we load the data and analyze it to understand what information is given in our dataset and how it can help us in building the model further.\n",
    "- **Data Preprocessing:**\n",
    "  - Handle Missing Values: Identify and address missing values by summary and then fill them and sure that there is no missing values in data.\n",
    "  - Outlier Detection and Treatment: Detect and handle outliers in the dataset, which could impact the model's accuracy.\n",
    "  - Dummy variable creation(categorical data): Transform categorical variables (e.g., \"College\" and \"City\") into 0 or 1.\n",
    "  - Normalize Data: Normalize numerical features to bring them to a common scale to avoid any feature dominating the model.\n",
    "  - Feature Selection: Use statistical techniques such as Lasso, Ridge, or correlation analysis to select the most relevant features for salary prediction.\n",
    "- **Train test split**\n",
    "   - diving the data into x and y then divide it into train data and test data for traning and testing of model.\n",
    "- **Model Selection and Statistics for accuracy :**\n",
    "    - Choose different regression models that are avialable for the given task like (Logistic regression,Linear discriminant analysis, KNN(K-nearest neighbour),Decision tree , Random forst ,Boosting models ,Bagging)\n",
    "\n",
    "     - Once the model is trained, Compare the accuracy of each model, using metrics like accuracy score and confusion matrix.\n",
    "- **Model Comparison:**\n",
    "    - Compare the performance of different models and select the one with the best accuracy and generalization.\n",
    "    - the model having best accuracy score is best to choose for making prediction of Rainfalls.\n",
    "- **Further Improvement:**\n",
    "    - Consider additional techniques like changing hyperparameters, n estimators,tunning ."
   ]
  },
  {
   "cell_type": "markdown",
   "id": "372e2a57-039f-4327-984b-84feaf74ed59",
   "metadata": {},
   "source": [
    "## <b> Q3. What were the available ML model options you had to perform this task?"
   ]
  },
  {
   "cell_type": "markdown",
   "id": "a7beac08-6ce8-459c-82b2-2a570100931b",
   "metadata": {},
   "source": [
    "#### -> It is a regression task so all the resgreesion models can be used here to predict the salary \n",
    "\n",
    "**1. Logistic regression:**\n",
    "- Logistic regression is a statistical method used in machine learning for binary classification problems, where the goal is to predict one of two possible outcomes (e.g., yes/no, 0/1, rain/no rain). Despite the name \"regression,\" it is actually a classification algorithm.\n",
    "  \n",
    "**2. Linear discriminant Analysis:**\n",
    "- Linear Discriminant Analysis (LDA) is a classification and dimensionality reduction technique used to separate two or more classes in a dataset by finding a linear combination of features that best separates the classes. It is particularly effective when dealing with linearly separable data and is often used as a pre-processing step before classification tasks.\n",
    "  \n",
    "**3.K-Nearest neighbour :**\n",
    "-K-Nearest Neighbors (KNN) is a simple and widely used machine learning algorithm for both classification and regression tasks. It is a non-parametric and instance-based learning algorithm, meaning it does not assume any specific form for the underlying data distribution and makes decisions based on the instances closest to the given input.\n",
    "\n",
    "**4. Simple Decision Trees:**\n",
    "- Decision tree is a tree based model that is udef to predict the classification as well as regression model it is very close to human thiking to approach th task\n",
    "\n",
    "**5. Random forest:** \n",
    " - A Random Forest model is an ensemble learning method used for classification and regression tasks. It operates by constructing multiple decision trees during training and outputting the class that is the mode of the classes (classification) or mean prediction (regression) of the individual trees.\n",
    "\n",
    "**6. Bagging:** \n",
    "- Bagging, short for Bootstrap Aggregating, is an ensemble machine learning technique designed to improve the stability and accuracy of machine learning algorithms. It reduces variance and helps to prevent overfitting. The core idea behind bagging is to train multiple models on different subsets of the data and then combine their outputs to produce a more accurate and robust prediction. \n",
    "\n",
    "**7. Gradient boosting:**\n",
    " - Gradient Boosting is an ensemble learning technique used for both classification and regression tasks. It builds a model sequentially by adding new models (usually decision trees) that correct errors made by the previous models. Each new model is trained to predict the residuals or errors of the previous models, and their predictions are combined to produce a final output.\n",
    "\n",
    "**8. AdaBoost:** \n",
    " - AdaBoost, short for Adaptive Boosting, is an ensemble learning technique used for classification and regression tasks. It combines multiple weak learners, typically simple decision trees (called decision stumps), to create a strong predictive model. AdaBoost assigns weights to each training instance, increasing the weight of misclassified instances and decreasing the weight of correctly classified ones. In subsequent rounds, new models focus more on the harder-to-classify examples. The final prediction is a weighted majority vote of all the models.\n",
    "\n",
    "**9. XG boost:** \n",
    "- XGBoost, short for Extreme Gradient Boosting, is an advanced ensemble learning technique based on gradient boosting. It is designed to be highly efficient, flexible, and portable, often outperforming other algorithms due to its speed and accuracy. XGBoost uses a combination of decision trees and gradient boosting, optimizing model performance by minimizing errors more effectively.\n",
    "\n"
   ]
  },
  {
   "cell_type": "markdown",
   "id": "6d2b1b1a-de0d-4fb7-94e2-200f452e33a6",
   "metadata": {},
   "source": [
    "## <b> Q4 Which model’s performance is best and what could be the possible reason for that? </b>"
   ]
  },
  {
   "cell_type": "markdown",
   "id": "fc3ee1bf-997c-4c53-a275-a04a25dff2ca",
   "metadata": {},
   "source": [
    "<b>Random forest is my choice to make a model </B> .Althought we know that Bagging and Linear dicriminant analysis they both also performed at thier best. But the higest accuracy is achived by Random forest here and the reason behing it is his hyper parameters like n_estimator,max_depth etc. \n",
    "\n",
    "We also know that XG boost is also good model you can go thought it also if you choose diffrent hyper parameter you can increase its accuracy also.In most of the cases XG boost and Random forest performs well. But in our dataset we see that random forest is good and bagging and Linear discriminant analysis aslo perform well.\n",
    "\n",
    "<B>why not bagging?</B>\n",
    "- Random Forest: In addition to bootstrapping samples, Random Forest randomly selects a subset of features (variables) at each node of the decision tree. This forces the trees to explore different patterns and become more decorrelated from each other, reducing the chances of overfitting.\n",
    "- Bagging: In Bagging, each tree is trained on a bootstrapped subset of the data, but all features are considered for every split, which can lead to high correlation between the trees, making the ensemble less effective.\n",
    "\n",
    "<B> why not LDA(Linear discriminant analysis)? </B>\n",
    " - We know that Random forest has advantage to use the hyper parameters to increase its accuracy very much in comparison to LDA. "
   ]
  },
  {
   "cell_type": "markdown",
   "id": "01590c5e-f300-4c50-96ab-40b81d1b3c3f",
   "metadata": {},
   "source": [
    "## <b/> Q5 What steps can you take to improve this selected model’s performance even further? </b>"
   ]
  },
  {
   "cell_type": "markdown",
   "id": "c9a91b4d-0bff-4699-bbb2-64697a9bd67e",
   "metadata": {},
   "source": [
    "#### Steps to increase model performance\n",
    "- **Increase the Number of Trees (Estimators):**\n",
    "    Random Forest's performance often benefits from increasing the number of decision trees (estimators) in the ensemble.\n",
    "- **Tune Hyperparameters:** Perform a more thorough hyperparameter tuning by experimenting with different values for parameters like max_depth, min_samples_split, min_samples_leaf, and max_features. Grid Search or Randomized Search can help find the optimal combination of hyperparameters.\n",
    "- **Feature Selection:** Consider removing or reducing the importance of less informative features to improve the model's efficiency and potentially its performance."
   ]
  },
  {
   "cell_type": "markdown",
   "id": "4532ecf3-e8b9-492c-ab68-00f7eed3490d",
   "metadata": {},
   "source": [
    "# <B> Project Starting"
   ]
  },
  {
   "cell_type": "code",
   "execution_count": 2,
   "id": "888b546e-682d-42ce-bd8a-948716b1c9f1",
   "metadata": {},
   "outputs": [],
   "source": [
    "#importing basic needed libraries numpy , pandas and sns\n",
    "import pandas as pd\n",
    "import numpy as np\n",
    "import seaborn as sns\n",
    "import matplotlib.pyplot as plt\n"
   ]
  },
  {
   "cell_type": "markdown",
   "id": "22c4434e-179b-48bf-8271-7c4d190e4bc1",
   "metadata": {},
   "source": [
    "### <b> 1 Data loading <B/>"
   ]
  },
  {
   "cell_type": "code",
   "execution_count": 5,
   "id": "6470d88b-3de3-4b2e-a94f-49f6940970f1",
   "metadata": {},
   "outputs": [],
   "source": [
    "# Read a CSV file into a DataFrame to load the data\n",
    "\n",
    "df = pd.read_csv(\"C:/Users/VINAY KUMAR PATEL/Downloads/machine learning/interview prep project/sydney_rain prediction.csv\",header=0)"
   ]
  },
  {
   "cell_type": "code",
   "execution_count": 7,
   "id": "79f95edf-ea9d-49e5-a0af-7f0dbf3188e0",
   "metadata": {},
   "outputs": [
    {
     "data": {
      "text/html": [
       "<div>\n",
       "<style scoped>\n",
       "    .dataframe tbody tr th:only-of-type {\n",
       "        vertical-align: middle;\n",
       "    }\n",
       "\n",
       "    .dataframe tbody tr th {\n",
       "        vertical-align: top;\n",
       "    }\n",
       "\n",
       "    .dataframe thead th {\n",
       "        text-align: right;\n",
       "    }\n",
       "</style>\n",
       "<table border=\"1\" class=\"dataframe\">\n",
       "  <thead>\n",
       "    <tr style=\"text-align: right;\">\n",
       "      <th></th>\n",
       "      <th>Date</th>\n",
       "      <th>Location</th>\n",
       "      <th>MinTemp</th>\n",
       "      <th>MaxTemp</th>\n",
       "      <th>Rainfall</th>\n",
       "      <th>Evaporation</th>\n",
       "      <th>Sunshine</th>\n",
       "      <th>Humidity9am</th>\n",
       "      <th>Humidity3pm</th>\n",
       "      <th>Pressure9am</th>\n",
       "      <th>Pressure3pm</th>\n",
       "      <th>Cloud9am</th>\n",
       "      <th>Cloud3pm</th>\n",
       "      <th>Temp9am</th>\n",
       "      <th>Temp3pm</th>\n",
       "      <th>RainToday</th>\n",
       "      <th>RainTomorrow</th>\n",
       "    </tr>\n",
       "  </thead>\n",
       "  <tbody>\n",
       "    <tr>\n",
       "      <th>0</th>\n",
       "      <td>01-02-2008</td>\n",
       "      <td>Sydney</td>\n",
       "      <td>19.5</td>\n",
       "      <td>22.4</td>\n",
       "      <td>15.6</td>\n",
       "      <td>6.2</td>\n",
       "      <td>0.0</td>\n",
       "      <td>92.0</td>\n",
       "      <td>84.0</td>\n",
       "      <td>1017.6</td>\n",
       "      <td>1017.4</td>\n",
       "      <td>8.0</td>\n",
       "      <td>8.0</td>\n",
       "      <td>20.7</td>\n",
       "      <td>20.9</td>\n",
       "      <td>Yes</td>\n",
       "      <td>Yes</td>\n",
       "    </tr>\n",
       "    <tr>\n",
       "      <th>1</th>\n",
       "      <td>02-02-2008</td>\n",
       "      <td>Sydney</td>\n",
       "      <td>19.5</td>\n",
       "      <td>25.6</td>\n",
       "      <td>6.0</td>\n",
       "      <td>3.4</td>\n",
       "      <td>2.7</td>\n",
       "      <td>83.0</td>\n",
       "      <td>73.0</td>\n",
       "      <td>1017.9</td>\n",
       "      <td>1016.4</td>\n",
       "      <td>7.0</td>\n",
       "      <td>7.0</td>\n",
       "      <td>22.4</td>\n",
       "      <td>24.8</td>\n",
       "      <td>Yes</td>\n",
       "      <td>Yes</td>\n",
       "    </tr>\n",
       "    <tr>\n",
       "      <th>2</th>\n",
       "      <td>03-02-2008</td>\n",
       "      <td>Sydney</td>\n",
       "      <td>21.6</td>\n",
       "      <td>24.5</td>\n",
       "      <td>6.6</td>\n",
       "      <td>2.4</td>\n",
       "      <td>0.1</td>\n",
       "      <td>88.0</td>\n",
       "      <td>86.0</td>\n",
       "      <td>1016.7</td>\n",
       "      <td>1015.6</td>\n",
       "      <td>7.0</td>\n",
       "      <td>8.0</td>\n",
       "      <td>23.5</td>\n",
       "      <td>23.0</td>\n",
       "      <td>Yes</td>\n",
       "      <td>Yes</td>\n",
       "    </tr>\n",
       "    <tr>\n",
       "      <th>3</th>\n",
       "      <td>04-02-2008</td>\n",
       "      <td>Sydney</td>\n",
       "      <td>20.2</td>\n",
       "      <td>22.8</td>\n",
       "      <td>18.8</td>\n",
       "      <td>2.2</td>\n",
       "      <td>0.0</td>\n",
       "      <td>83.0</td>\n",
       "      <td>90.0</td>\n",
       "      <td>1014.2</td>\n",
       "      <td>1011.8</td>\n",
       "      <td>8.0</td>\n",
       "      <td>8.0</td>\n",
       "      <td>21.4</td>\n",
       "      <td>20.9</td>\n",
       "      <td>Yes</td>\n",
       "      <td>Yes</td>\n",
       "    </tr>\n",
       "    <tr>\n",
       "      <th>4</th>\n",
       "      <td>05-02-2008</td>\n",
       "      <td>Sydney</td>\n",
       "      <td>19.7</td>\n",
       "      <td>25.7</td>\n",
       "      <td>77.4</td>\n",
       "      <td>NaN</td>\n",
       "      <td>0.0</td>\n",
       "      <td>88.0</td>\n",
       "      <td>74.0</td>\n",
       "      <td>1008.3</td>\n",
       "      <td>1004.8</td>\n",
       "      <td>8.0</td>\n",
       "      <td>8.0</td>\n",
       "      <td>22.5</td>\n",
       "      <td>25.5</td>\n",
       "      <td>Yes</td>\n",
       "      <td>Yes</td>\n",
       "    </tr>\n",
       "  </tbody>\n",
       "</table>\n",
       "</div>"
      ],
      "text/plain": [
       "         Date Location  MinTemp  MaxTemp  Rainfall  Evaporation  Sunshine  \\\n",
       "0  01-02-2008   Sydney     19.5     22.4      15.6          6.2       0.0   \n",
       "1  02-02-2008   Sydney     19.5     25.6       6.0          3.4       2.7   \n",
       "2  03-02-2008   Sydney     21.6     24.5       6.6          2.4       0.1   \n",
       "3  04-02-2008   Sydney     20.2     22.8      18.8          2.2       0.0   \n",
       "4  05-02-2008   Sydney     19.7     25.7      77.4          NaN       0.0   \n",
       "\n",
       "   Humidity9am  Humidity3pm  Pressure9am  Pressure3pm  Cloud9am  Cloud3pm  \\\n",
       "0         92.0         84.0       1017.6       1017.4       8.0       8.0   \n",
       "1         83.0         73.0       1017.9       1016.4       7.0       7.0   \n",
       "2         88.0         86.0       1016.7       1015.6       7.0       8.0   \n",
       "3         83.0         90.0       1014.2       1011.8       8.0       8.0   \n",
       "4         88.0         74.0       1008.3       1004.8       8.0       8.0   \n",
       "\n",
       "   Temp9am  Temp3pm RainToday RainTomorrow  \n",
       "0     20.7     20.9       Yes          Yes  \n",
       "1     22.4     24.8       Yes          Yes  \n",
       "2     23.5     23.0       Yes          Yes  \n",
       "3     21.4     20.9       Yes          Yes  \n",
       "4     22.5     25.5       Yes          Yes  "
      ]
     },
     "execution_count": 7,
     "metadata": {},
     "output_type": "execute_result"
    }
   ],
   "source": [
    "df.head()"
   ]
  },
  {
   "cell_type": "markdown",
   "id": "ffa83498-85bc-42db-a8cd-854b3888c496",
   "metadata": {},
   "source": [
    "### <b> 2. Data Preprocessing <B/>"
   ]
  },
  {
   "cell_type": "markdown",
   "id": "73dc702f-04ff-4933-a81b-a25ca6ec5339",
   "metadata": {},
   "source": [
    "- <B> checking categorical columns"
   ]
  },
  {
   "cell_type": "code",
   "execution_count": 11,
   "id": "15c046ad-71d3-47b7-887a-7e67ad9c013a",
   "metadata": {},
   "outputs": [
    {
     "data": {
      "text/plain": [
       "<Axes: xlabel='Location', ylabel='count'>"
      ]
     },
     "execution_count": 11,
     "metadata": {},
     "output_type": "execute_result"
    },
    {
     "data": {
      "image/png": "[encoded data removed]",
      "text/plain": [
       "<Figure size 640x480 with 1 Axes>"
      ]
     },
     "metadata": {},
     "output_type": "display_data"
    }
   ],
   "source": [
    "#ploting bar chart \n",
    "sns.countplot(x='Location',data=df)"
   ]
  },
  {
   "cell_type": "markdown",
   "id": "c63353af-d05c-4620-bee9-8873d73de230",
   "metadata": {},
   "source": [
    "##### Note : BY this bar graph we see thet Location has only one cateogery .So, It is not needed for prediction (droping it)"
   ]
  },
  {
   "cell_type": "code",
   "execution_count": 14,
   "id": "a671422b-1b66-47ac-96ab-42bc4f1816a5",
   "metadata": {},
   "outputs": [],
   "source": [
    "#droping Location\n",
    "del df['Location']"
   ]
  },
  {
   "cell_type": "code",
   "execution_count": 16,
   "id": "fe345a06-6232-4abf-af19-ec73122358f4",
   "metadata": {},
   "outputs": [
    {
     "data": {
      "text/html": [
       "<div>\n",
       "<style scoped>\n",
       "    .dataframe tbody tr th:only-of-type {\n",
       "        vertical-align: middle;\n",
       "    }\n",
       "\n",
       "    .dataframe tbody tr th {\n",
       "        vertical-align: top;\n",
       "    }\n",
       "\n",
       "    .dataframe thead th {\n",
       "        text-align: right;\n",
       "    }\n",
       "</style>\n",
       "<table border=\"1\" class=\"dataframe\">\n",
       "  <thead>\n",
       "    <tr style=\"text-align: right;\">\n",
       "      <th></th>\n",
       "      <th>Date</th>\n",
       "      <th>MinTemp</th>\n",
       "      <th>MaxTemp</th>\n",
       "      <th>Rainfall</th>\n",
       "      <th>Evaporation</th>\n",
       "      <th>Sunshine</th>\n",
       "      <th>Humidity9am</th>\n",
       "      <th>Humidity3pm</th>\n",
       "      <th>Pressure9am</th>\n",
       "      <th>Pressure3pm</th>\n",
       "      <th>Cloud9am</th>\n",
       "      <th>Cloud3pm</th>\n",
       "      <th>Temp9am</th>\n",
       "      <th>Temp3pm</th>\n",
       "      <th>RainToday</th>\n",
       "      <th>RainTomorrow</th>\n",
       "    </tr>\n",
       "  </thead>\n",
       "  <tbody>\n",
       "    <tr>\n",
       "      <th>0</th>\n",
       "      <td>01-02-2008</td>\n",
       "      <td>19.5</td>\n",
       "      <td>22.4</td>\n",
       "      <td>15.6</td>\n",
       "      <td>6.2</td>\n",
       "      <td>0.0</td>\n",
       "      <td>92.0</td>\n",
       "      <td>84.0</td>\n",
       "      <td>1017.6</td>\n",
       "      <td>1017.4</td>\n",
       "      <td>8.0</td>\n",
       "      <td>8.0</td>\n",
       "      <td>20.7</td>\n",
       "      <td>20.9</td>\n",
       "      <td>Yes</td>\n",
       "      <td>Yes</td>\n",
       "    </tr>\n",
       "    <tr>\n",
       "      <th>1</th>\n",
       "      <td>02-02-2008</td>\n",
       "      <td>19.5</td>\n",
       "      <td>25.6</td>\n",
       "      <td>6.0</td>\n",
       "      <td>3.4</td>\n",
       "      <td>2.7</td>\n",
       "      <td>83.0</td>\n",
       "      <td>73.0</td>\n",
       "      <td>1017.9</td>\n",
       "      <td>1016.4</td>\n",
       "      <td>7.0</td>\n",
       "      <td>7.0</td>\n",
       "      <td>22.4</td>\n",
       "      <td>24.8</td>\n",
       "      <td>Yes</td>\n",
       "      <td>Yes</td>\n",
       "    </tr>\n",
       "    <tr>\n",
       "      <th>2</th>\n",
       "      <td>03-02-2008</td>\n",
       "      <td>21.6</td>\n",
       "      <td>24.5</td>\n",
       "      <td>6.6</td>\n",
       "      <td>2.4</td>\n",
       "      <td>0.1</td>\n",
       "      <td>88.0</td>\n",
       "      <td>86.0</td>\n",
       "      <td>1016.7</td>\n",
       "      <td>1015.6</td>\n",
       "      <td>7.0</td>\n",
       "      <td>8.0</td>\n",
       "      <td>23.5</td>\n",
       "      <td>23.0</td>\n",
       "      <td>Yes</td>\n",
       "      <td>Yes</td>\n",
       "    </tr>\n",
       "    <tr>\n",
       "      <th>3</th>\n",
       "      <td>04-02-2008</td>\n",
       "      <td>20.2</td>\n",
       "      <td>22.8</td>\n",
       "      <td>18.8</td>\n",
       "      <td>2.2</td>\n",
       "      <td>0.0</td>\n",
       "      <td>83.0</td>\n",
       "      <td>90.0</td>\n",
       "      <td>1014.2</td>\n",
       "      <td>1011.8</td>\n",
       "      <td>8.0</td>\n",
       "      <td>8.0</td>\n",
       "      <td>21.4</td>\n",
       "      <td>20.9</td>\n",
       "      <td>Yes</td>\n",
       "      <td>Yes</td>\n",
       "    </tr>\n",
       "    <tr>\n",
       "      <th>4</th>\n",
       "      <td>05-02-2008</td>\n",
       "      <td>19.7</td>\n",
       "      <td>25.7</td>\n",
       "      <td>77.4</td>\n",
       "      <td>NaN</td>\n",
       "      <td>0.0</td>\n",
       "      <td>88.0</td>\n",
       "      <td>74.0</td>\n",
       "      <td>1008.3</td>\n",
       "      <td>1004.8</td>\n",
       "      <td>8.0</td>\n",
       "      <td>8.0</td>\n",
       "      <td>22.5</td>\n",
       "      <td>25.5</td>\n",
       "      <td>Yes</td>\n",
       "      <td>Yes</td>\n",
       "    </tr>\n",
       "  </tbody>\n",
       "</table>\n",
       "</div>"
      ],
      "text/plain": [
       "         Date  MinTemp  MaxTemp  Rainfall  Evaporation  Sunshine  Humidity9am  \\\n",
       "0  01-02-2008     19.5     22.4      15.6          6.2       0.0         92.0   \n",
       "1  02-02-2008     19.5     25.6       6.0          3.4       2.7         83.0   \n",
       "2  03-02-2008     21.6     24.5       6.6          2.4       0.1         88.0   \n",
       "3  04-02-2008     20.2     22.8      18.8          2.2       0.0         83.0   \n",
       "4  05-02-2008     19.7     25.7      77.4          NaN       0.0         88.0   \n",
       "\n",
       "   Humidity3pm  Pressure9am  Pressure3pm  Cloud9am  Cloud3pm  Temp9am  \\\n",
       "0         84.0       1017.6       1017.4       8.0       8.0     20.7   \n",
       "1         73.0       1017.9       1016.4       7.0       7.0     22.4   \n",
       "2         86.0       1016.7       1015.6       7.0       8.0     23.5   \n",
       "3         90.0       1014.2       1011.8       8.0       8.0     21.4   \n",
       "4         74.0       1008.3       1004.8       8.0       8.0     22.5   \n",
       "\n",
       "   Temp3pm RainToday RainTomorrow  \n",
       "0     20.9       Yes          Yes  \n",
       "1     24.8       Yes          Yes  \n",
       "2     23.0       Yes          Yes  \n",
       "3     20.9       Yes          Yes  \n",
       "4     25.5       Yes          Yes  "
      ]
     },
     "execution_count": 16,
     "metadata": {},
     "output_type": "execute_result"
    }
   ],
   "source": [
    "#showing data after deleting Location\n",
    "df.head()"
   ]
  },
  {
   "cell_type": "code",
   "execution_count": 18,
   "id": "4d00c2e1-3c55-44d8-9ce6-022c728b13af",
   "metadata": {},
   "outputs": [
    {
     "data": {
      "text/plain": [
       "<Axes: xlabel='RainToday', ylabel='count'>"
      ]
     },
     "execution_count": 18,
     "metadata": {},
     "output_type": "execute_result"
    },
    {
     "data": {
      "image/png": "[encoded data removed]",
      "text/plain": [
       "<Figure size 640x480 with 1 Axes>"
      ]
     },
     "metadata": {},
     "output_type": "display_data"
    }
   ],
   "source": [
    "sns.countplot(x='RainToday',data=df)"
   ]
  },
  {
   "cell_type": "code",
   "execution_count": 20,
   "id": "07d57b56-4ea7-4762-a67d-b00ac1b78b36",
   "metadata": {},
   "outputs": [
    {
     "data": {
      "text/plain": [
       "<Axes: xlabel='RainTomorrow', ylabel='count'>"
      ]
     },
     "execution_count": 20,
     "metadata": {},
     "output_type": "execute_result"
    },
    {
     "data": {
      "image/png": "[encoded data removed]",
      "text/plain": [
       "<Figure size 640x480 with 1 Axes>"
      ]
     },
     "metadata": {},
     "output_type": "display_data"
    }
   ],
   "source": [
    "sns.countplot(x='RainTomorrow',data=df)"
   ]
  },
  {
   "cell_type": "markdown",
   "id": "896d5253-e018-4b46-8a52-d6041bb2d06d",
   "metadata": {},
   "source": [
    "- <B> droping date column </B>\n",
    "   - Because in corelation matrix we see that is is very less correlated to out dependent column "
   ]
  },
  {
   "cell_type": "code",
   "execution_count": 23,
   "id": "3b5f124a-3c11-4170-bc78-987652d61265",
   "metadata": {},
   "outputs": [
    {
     "data": {
      "text/html": [
       "<div>\n",
       "<style scoped>\n",
       "    .dataframe tbody tr th:only-of-type {\n",
       "        vertical-align: middle;\n",
       "    }\n",
       "\n",
       "    .dataframe tbody tr th {\n",
       "        vertical-align: top;\n",
       "    }\n",
       "\n",
       "    .dataframe thead th {\n",
       "        text-align: right;\n",
       "    }\n",
       "</style>\n",
       "<table border=\"1\" class=\"dataframe\">\n",
       "  <thead>\n",
       "    <tr style=\"text-align: right;\">\n",
       "      <th></th>\n",
       "      <th>MinTemp</th>\n",
       "      <th>MaxTemp</th>\n",
       "      <th>Rainfall</th>\n",
       "      <th>Evaporation</th>\n",
       "      <th>Sunshine</th>\n",
       "      <th>Humidity9am</th>\n",
       "      <th>Humidity3pm</th>\n",
       "      <th>Pressure9am</th>\n",
       "      <th>Pressure3pm</th>\n",
       "      <th>Cloud9am</th>\n",
       "      <th>Cloud3pm</th>\n",
       "      <th>Temp9am</th>\n",
       "      <th>Temp3pm</th>\n",
       "      <th>RainToday</th>\n",
       "      <th>RainTomorrow</th>\n",
       "    </tr>\n",
       "  </thead>\n",
       "  <tbody>\n",
       "    <tr>\n",
       "      <th>0</th>\n",
       "      <td>19.5</td>\n",
       "      <td>22.4</td>\n",
       "      <td>15.6</td>\n",
       "      <td>6.2</td>\n",
       "      <td>0.0</td>\n",
       "      <td>92.0</td>\n",
       "      <td>84.0</td>\n",
       "      <td>1017.6</td>\n",
       "      <td>1017.4</td>\n",
       "      <td>8.0</td>\n",
       "      <td>8.0</td>\n",
       "      <td>20.7</td>\n",
       "      <td>20.9</td>\n",
       "      <td>Yes</td>\n",
       "      <td>Yes</td>\n",
       "    </tr>\n",
       "    <tr>\n",
       "      <th>1</th>\n",
       "      <td>19.5</td>\n",
       "      <td>25.6</td>\n",
       "      <td>6.0</td>\n",
       "      <td>3.4</td>\n",
       "      <td>2.7</td>\n",
       "      <td>83.0</td>\n",
       "      <td>73.0</td>\n",
       "      <td>1017.9</td>\n",
       "      <td>1016.4</td>\n",
       "      <td>7.0</td>\n",
       "      <td>7.0</td>\n",
       "      <td>22.4</td>\n",
       "      <td>24.8</td>\n",
       "      <td>Yes</td>\n",
       "      <td>Yes</td>\n",
       "    </tr>\n",
       "    <tr>\n",
       "      <th>2</th>\n",
       "      <td>21.6</td>\n",
       "      <td>24.5</td>\n",
       "      <td>6.6</td>\n",
       "      <td>2.4</td>\n",
       "      <td>0.1</td>\n",
       "      <td>88.0</td>\n",
       "      <td>86.0</td>\n",
       "      <td>1016.7</td>\n",
       "      <td>1015.6</td>\n",
       "      <td>7.0</td>\n",
       "      <td>8.0</td>\n",
       "      <td>23.5</td>\n",
       "      <td>23.0</td>\n",
       "      <td>Yes</td>\n",
       "      <td>Yes</td>\n",
       "    </tr>\n",
       "    <tr>\n",
       "      <th>3</th>\n",
       "      <td>20.2</td>\n",
       "      <td>22.8</td>\n",
       "      <td>18.8</td>\n",
       "      <td>2.2</td>\n",
       "      <td>0.0</td>\n",
       "      <td>83.0</td>\n",
       "      <td>90.0</td>\n",
       "      <td>1014.2</td>\n",
       "      <td>1011.8</td>\n",
       "      <td>8.0</td>\n",
       "      <td>8.0</td>\n",
       "      <td>21.4</td>\n",
       "      <td>20.9</td>\n",
       "      <td>Yes</td>\n",
       "      <td>Yes</td>\n",
       "    </tr>\n",
       "    <tr>\n",
       "      <th>4</th>\n",
       "      <td>19.7</td>\n",
       "      <td>25.7</td>\n",
       "      <td>77.4</td>\n",
       "      <td>NaN</td>\n",
       "      <td>0.0</td>\n",
       "      <td>88.0</td>\n",
       "      <td>74.0</td>\n",
       "      <td>1008.3</td>\n",
       "      <td>1004.8</td>\n",
       "      <td>8.0</td>\n",
       "      <td>8.0</td>\n",
       "      <td>22.5</td>\n",
       "      <td>25.5</td>\n",
       "      <td>Yes</td>\n",
       "      <td>Yes</td>\n",
       "    </tr>\n",
       "  </tbody>\n",
       "</table>\n",
       "</div>"
      ],
      "text/plain": [
       "   MinTemp  MaxTemp  Rainfall  Evaporation  Sunshine  Humidity9am  \\\n",
       "0     19.5     22.4      15.6          6.2       0.0         92.0   \n",
       "1     19.5     25.6       6.0          3.4       2.7         83.0   \n",
       "2     21.6     24.5       6.6          2.4       0.1         88.0   \n",
       "3     20.2     22.8      18.8          2.2       0.0         83.0   \n",
       "4     19.7     25.7      77.4          NaN       0.0         88.0   \n",
       "\n",
       "   Humidity3pm  Pressure9am  Pressure3pm  Cloud9am  Cloud3pm  Temp9am  \\\n",
       "0         84.0       1017.6       1017.4       8.0       8.0     20.7   \n",
       "1         73.0       1017.9       1016.4       7.0       7.0     22.4   \n",
       "2         86.0       1016.7       1015.6       7.0       8.0     23.5   \n",
       "3         90.0       1014.2       1011.8       8.0       8.0     21.4   \n",
       "4         74.0       1008.3       1004.8       8.0       8.0     22.5   \n",
       "\n",
       "   Temp3pm RainToday RainTomorrow  \n",
       "0     20.9       Yes          Yes  \n",
       "1     24.8       Yes          Yes  \n",
       "2     23.0       Yes          Yes  \n",
       "3     20.9       Yes          Yes  \n",
       "4     25.5       Yes          Yes  "
      ]
     },
     "execution_count": 23,
     "metadata": {},
     "output_type": "execute_result"
    }
   ],
   "source": [
    "# droping date column\n",
    "del df['Date']\n",
    "\n",
    "df.head()"
   ]
  },
  {
   "cell_type": "markdown",
   "id": "73943d04-99be-492e-8ac7-35da9c151bbf",
   "metadata": {},
   "source": [
    "- <B> Checking for null value"
   ]
  },
  {
   "cell_type": "code",
   "execution_count": 26,
   "id": "a301758a-3a7d-4716-9841-8c15fd2dee0d",
   "metadata": {},
   "outputs": [
    {
     "name": "stdout",
     "output_type": "stream",
     "text": [
      "<class 'pandas.core.frame.DataFrame'>\n",
      "RangeIndex: 3337 entries, 0 to 3336\n",
      "Data columns (total 15 columns):\n",
      " #   Column        Non-Null Count  Dtype  \n",
      "---  ------        --------------  -----  \n",
      " 0   MinTemp       3334 non-null   float64\n",
      " 1   MaxTemp       3335 non-null   float64\n",
      " 2   Rainfall      3331 non-null   float64\n",
      " 3   Evaporation   3286 non-null   float64\n",
      " 4   Sunshine      3321 non-null   float64\n",
      " 5   Humidity9am   3323 non-null   float64\n",
      " 6   Humidity3pm   3324 non-null   float64\n",
      " 7   Pressure9am   3317 non-null   float64\n",
      " 8   Pressure3pm   3318 non-null   float64\n",
      " 9   Cloud9am      2771 non-null   float64\n",
      " 10  Cloud3pm      2776 non-null   float64\n",
      " 11  Temp9am       3333 non-null   float64\n",
      " 12  Temp3pm       3333 non-null   float64\n",
      " 13  RainToday     3331 non-null   object \n",
      " 14  RainTomorrow  3337 non-null   object \n",
      "dtypes: float64(13), object(2)\n",
      "memory usage: 391.2+ KB\n"
     ]
    }
   ],
   "source": [
    "df.info()"
   ]
  },
  {
   "cell_type": "code",
   "execution_count": 28,
   "id": "68f3548f-7789-429b-80c5-c83b4247229f",
   "metadata": {},
   "outputs": [
    {
     "name": "stdout",
     "output_type": "stream",
     "text": [
      "<class 'pandas.core.frame.DataFrame'>\n",
      "RangeIndex: 3337 entries, 0 to 3336\n",
      "Data columns (total 15 columns):\n",
      " #   Column        Non-Null Count  Dtype  \n",
      "---  ------        --------------  -----  \n",
      " 0   MinTemp       3337 non-null   float64\n",
      " 1   MaxTemp       3337 non-null   float64\n",
      " 2   Rainfall      3337 non-null   float64\n",
      " 3   Evaporation   3337 non-null   float64\n",
      " 4   Sunshine      3337 non-null   float64\n",
      " 5   Humidity9am   3337 non-null   float64\n",
      " 6   Humidity3pm   3337 non-null   float64\n",
      " 7   Pressure9am   3337 non-null   float64\n",
      " 8   Pressure3pm   3337 non-null   float64\n",
      " 9   Cloud9am      3337 non-null   float64\n",
      " 10  Cloud3pm      3337 non-null   float64\n",
      " 11  Temp9am       3337 non-null   float64\n",
      " 12  Temp3pm       3337 non-null   float64\n",
      " 13  RainToday     3331 non-null   object \n",
      " 14  RainTomorrow  3337 non-null   object \n",
      "dtypes: float64(13), object(2)\n",
      "memory usage: 391.2+ KB\n"
     ]
    }
   ],
   "source": [
    "# Fill missing numerical values with the mean\n",
    "df.MinTemp= df.MinTemp.fillna(df.MinTemp.mean())\n",
    "df.MaxTemp= df.MaxTemp.fillna(df.MaxTemp.mean())\n",
    "df.Rainfall= df.Rainfall.fillna(df.Rainfall.mean())\n",
    "df.Evaporation= df.Evaporation.fillna(df.Evaporation.mean())\n",
    "df.Sunshine= df.Sunshine.fillna(df.Sunshine.mean())\n",
    "df.Humidity9am= df.Humidity9am.fillna(df.Humidity9am.mean())\n",
    "df.Humidity3pm= df.Humidity3pm.fillna(df.Humidity3pm.mean())\n",
    "df.Pressure9am= df.Pressure9am.fillna(df.Pressure9am.mean())\n",
    "df.Pressure3pm= df.Pressure3pm.fillna(df.Pressure3pm.mean())\n",
    "df.Cloud9am= df.Cloud9am.fillna(df.Cloud9am.mean())\n",
    "df.Cloud3pm= df.Cloud3pm.fillna(df.Cloud3pm.mean())\n",
    "df.Temp9am= df.Temp9am.fillna(df.Temp9am.mean())\n",
    "df.Temp3pm= df.Temp3pm.fillna(df.Temp3pm.mean())\n",
    "\n",
    "# Fill missing categorical values with mode\n",
    "df.RainToday= df.RainToday.fillna(df.RainToday.mode())\n",
    "\n",
    "# checking for updated data after filling full values\n",
    "df.info()"
   ]
  },
  {
   "cell_type": "markdown",
   "id": "22c3fd21-82f6-4d0e-9ac4-d49ff007939f",
   "metadata": {},
   "source": [
    "- <B> Dummy variable creation </B>"
   ]
  },
  {
   "cell_type": "code",
   "execution_count": 31,
   "id": "c4619ce8-bcd4-46db-9f2d-9126bbd482af",
   "metadata": {},
   "outputs": [
    {
     "data": {
      "text/html": [
       "<div>\n",
       "<style scoped>\n",
       "    .dataframe tbody tr th:only-of-type {\n",
       "        vertical-align: middle;\n",
       "    }\n",
       "\n",
       "    .dataframe tbody tr th {\n",
       "        vertical-align: top;\n",
       "    }\n",
       "\n",
       "    .dataframe thead th {\n",
       "        text-align: right;\n",
       "    }\n",
       "</style>\n",
       "<table border=\"1\" class=\"dataframe\">\n",
       "  <thead>\n",
       "    <tr style=\"text-align: right;\">\n",
       "      <th></th>\n",
       "      <th>MinTemp</th>\n",
       "      <th>MaxTemp</th>\n",
       "      <th>Rainfall</th>\n",
       "      <th>Evaporation</th>\n",
       "      <th>Sunshine</th>\n",
       "      <th>Humidity9am</th>\n",
       "      <th>Humidity3pm</th>\n",
       "      <th>Pressure9am</th>\n",
       "      <th>Pressure3pm</th>\n",
       "      <th>Cloud9am</th>\n",
       "      <th>Cloud3pm</th>\n",
       "      <th>Temp9am</th>\n",
       "      <th>Temp3pm</th>\n",
       "      <th>RainToday_Yes</th>\n",
       "      <th>RainTomorrow_Yes</th>\n",
       "    </tr>\n",
       "  </thead>\n",
       "  <tbody>\n",
       "    <tr>\n",
       "      <th>0</th>\n",
       "      <td>19</td>\n",
       "      <td>22</td>\n",
       "      <td>15</td>\n",
       "      <td>6</td>\n",
       "      <td>0</td>\n",
       "      <td>92</td>\n",
       "      <td>84</td>\n",
       "      <td>1017</td>\n",
       "      <td>1017</td>\n",
       "      <td>8</td>\n",
       "      <td>8</td>\n",
       "      <td>20</td>\n",
       "      <td>20</td>\n",
       "      <td>1</td>\n",
       "      <td>1</td>\n",
       "    </tr>\n",
       "    <tr>\n",
       "      <th>1</th>\n",
       "      <td>19</td>\n",
       "      <td>25</td>\n",
       "      <td>6</td>\n",
       "      <td>3</td>\n",
       "      <td>2</td>\n",
       "      <td>83</td>\n",
       "      <td>73</td>\n",
       "      <td>1017</td>\n",
       "      <td>1016</td>\n",
       "      <td>7</td>\n",
       "      <td>7</td>\n",
       "      <td>22</td>\n",
       "      <td>24</td>\n",
       "      <td>1</td>\n",
       "      <td>1</td>\n",
       "    </tr>\n",
       "    <tr>\n",
       "      <th>2</th>\n",
       "      <td>21</td>\n",
       "      <td>24</td>\n",
       "      <td>6</td>\n",
       "      <td>2</td>\n",
       "      <td>0</td>\n",
       "      <td>88</td>\n",
       "      <td>86</td>\n",
       "      <td>1016</td>\n",
       "      <td>1015</td>\n",
       "      <td>7</td>\n",
       "      <td>8</td>\n",
       "      <td>23</td>\n",
       "      <td>23</td>\n",
       "      <td>1</td>\n",
       "      <td>1</td>\n",
       "    </tr>\n",
       "    <tr>\n",
       "      <th>3</th>\n",
       "      <td>20</td>\n",
       "      <td>22</td>\n",
       "      <td>18</td>\n",
       "      <td>2</td>\n",
       "      <td>0</td>\n",
       "      <td>83</td>\n",
       "      <td>90</td>\n",
       "      <td>1014</td>\n",
       "      <td>1011</td>\n",
       "      <td>8</td>\n",
       "      <td>8</td>\n",
       "      <td>21</td>\n",
       "      <td>20</td>\n",
       "      <td>1</td>\n",
       "      <td>1</td>\n",
       "    </tr>\n",
       "    <tr>\n",
       "      <th>4</th>\n",
       "      <td>19</td>\n",
       "      <td>25</td>\n",
       "      <td>77</td>\n",
       "      <td>5</td>\n",
       "      <td>0</td>\n",
       "      <td>88</td>\n",
       "      <td>74</td>\n",
       "      <td>1008</td>\n",
       "      <td>1004</td>\n",
       "      <td>8</td>\n",
       "      <td>8</td>\n",
       "      <td>22</td>\n",
       "      <td>25</td>\n",
       "      <td>1</td>\n",
       "      <td>1</td>\n",
       "    </tr>\n",
       "  </tbody>\n",
       "</table>\n",
       "</div>"
      ],
      "text/plain": [
       "   MinTemp  MaxTemp  Rainfall  Evaporation  Sunshine  Humidity9am  \\\n",
       "0       19       22        15            6         0           92   \n",
       "1       19       25         6            3         2           83   \n",
       "2       21       24         6            2         0           88   \n",
       "3       20       22        18            2         0           83   \n",
       "4       19       25        77            5         0           88   \n",
       "\n",
       "   Humidity3pm  Pressure9am  Pressure3pm  Cloud9am  Cloud3pm  Temp9am  \\\n",
       "0           84         1017         1017         8         8       20   \n",
       "1           73         1017         1016         7         7       22   \n",
       "2           86         1016         1015         7         8       23   \n",
       "3           90         1014         1011         8         8       21   \n",
       "4           74         1008         1004         8         8       22   \n",
       "\n",
       "   Temp3pm  RainToday_Yes  RainTomorrow_Yes  \n",
       "0       20              1                 1  \n",
       "1       24              1                 1  \n",
       "2       23              1                 1  \n",
       "3       20              1                 1  \n",
       "4       25              1                 1  "
      ]
     },
     "execution_count": 31,
     "metadata": {},
     "output_type": "execute_result"
    }
   ],
   "source": [
    "# Exclude the Date column when creating dummies\n",
    "df = pd.get_dummies(df, drop_first=True).astype(int)\n",
    "\n",
    "# Viewing data\n",
    "df.head()\n"
   ]
  },
  {
   "cell_type": "markdown",
   "id": "6fbb43ab-ee61-425d-bfba-5f44abd341d7",
   "metadata": {},
   "source": [
    "- <B> Correlation Analysis </b>"
   ]
  },
  {
   "cell_type": "code",
   "execution_count": 34,
   "id": "f7d9c3e9-d979-4ca2-824b-d4b3683b1d47",
   "metadata": {},
   "outputs": [
    {
     "data": {
      "text/html": [
       "<div>\n",
       "<style scoped>\n",
       "    .dataframe tbody tr th:only-of-type {\n",
       "        vertical-align: middle;\n",
       "    }\n",
       "\n",
       "    .dataframe tbody tr th {\n",
       "        vertical-align: top;\n",
       "    }\n",
       "\n",
       "    .dataframe thead th {\n",
       "        text-align: right;\n",
       "    }\n",
       "</style>\n",
       "<table border=\"1\" class=\"dataframe\">\n",
       "  <thead>\n",
       "    <tr style=\"text-align: right;\">\n",
       "      <th></th>\n",
       "      <th>MinTemp</th>\n",
       "      <th>MaxTemp</th>\n",
       "      <th>Rainfall</th>\n",
       "      <th>Evaporation</th>\n",
       "      <th>Sunshine</th>\n",
       "      <th>Humidity9am</th>\n",
       "      <th>Humidity3pm</th>\n",
       "      <th>Pressure9am</th>\n",
       "      <th>Pressure3pm</th>\n",
       "      <th>Cloud9am</th>\n",
       "      <th>Cloud3pm</th>\n",
       "      <th>Temp9am</th>\n",
       "      <th>Temp3pm</th>\n",
       "      <th>RainToday_Yes</th>\n",
       "      <th>RainTomorrow_Yes</th>\n",
       "    </tr>\n",
       "  </thead>\n",
       "  <tbody>\n",
       "    <tr>\n",
       "      <th>MinTemp</th>\n",
       "      <td>1.000000</td>\n",
       "      <td>0.769152</td>\n",
       "      <td>0.010794</td>\n",
       "      <td>0.563022</td>\n",
       "      <td>-0.057496</td>\n",
       "      <td>0.051414</td>\n",
       "      <td>0.268493</td>\n",
       "      <td>-0.394483</td>\n",
       "      <td>-0.355941</td>\n",
       "      <td>0.233242</td>\n",
       "      <td>0.161734</td>\n",
       "      <td>0.935401</td>\n",
       "      <td>0.750828</td>\n",
       "      <td>0.017203</td>\n",
       "      <td>0.078575</td>\n",
       "    </tr>\n",
       "    <tr>\n",
       "      <th>MaxTemp</th>\n",
       "      <td>0.769152</td>\n",
       "      <td>1.000000</td>\n",
       "      <td>-0.136544</td>\n",
       "      <td>0.505861</td>\n",
       "      <td>0.325380</td>\n",
       "      <td>-0.186565</td>\n",
       "      <td>-0.151423</td>\n",
       "      <td>-0.387279</td>\n",
       "      <td>-0.421108</td>\n",
       "      <td>-0.086987</td>\n",
       "      <td>-0.099731</td>\n",
       "      <td>0.856139</td>\n",
       "      <td>0.956014</td>\n",
       "      <td>-0.187058</td>\n",
       "      <td>-0.149355</td>\n",
       "    </tr>\n",
       "    <tr>\n",
       "      <th>Rainfall</th>\n",
       "      <td>0.010794</td>\n",
       "      <td>-0.136544</td>\n",
       "      <td>1.000000</td>\n",
       "      <td>-0.093370</td>\n",
       "      <td>-0.298494</td>\n",
       "      <td>0.325317</td>\n",
       "      <td>0.297306</td>\n",
       "      <td>-0.037228</td>\n",
       "      <td>0.001440</td>\n",
       "      <td>0.237060</td>\n",
       "      <td>0.196534</td>\n",
       "      <td>-0.054653</td>\n",
       "      <td>-0.140135</td>\n",
       "      <td>0.544560</td>\n",
       "      <td>0.290209</td>\n",
       "    </tr>\n",
       "    <tr>\n",
       "      <th>Evaporation</th>\n",
       "      <td>0.563022</td>\n",
       "      <td>0.505861</td>\n",
       "      <td>-0.093370</td>\n",
       "      <td>1.000000</td>\n",
       "      <td>0.179006</td>\n",
       "      <td>-0.392834</td>\n",
       "      <td>-0.101913</td>\n",
       "      <td>-0.342737</td>\n",
       "      <td>-0.296665</td>\n",
       "      <td>-0.038565</td>\n",
       "      <td>-0.037479</td>\n",
       "      <td>0.600095</td>\n",
       "      <td>0.471114</td>\n",
       "      <td>-0.230769</td>\n",
       "      <td>-0.065338</td>\n",
       "    </tr>\n",
       "    <tr>\n",
       "      <th>Sunshine</th>\n",
       "      <td>-0.057496</td>\n",
       "      <td>0.325380</td>\n",
       "      <td>-0.298494</td>\n",
       "      <td>0.179006</td>\n",
       "      <td>1.000000</td>\n",
       "      <td>-0.488786</td>\n",
       "      <td>-0.577456</td>\n",
       "      <td>-0.047482</td>\n",
       "      <td>-0.096133</td>\n",
       "      <td>-0.656905</td>\n",
       "      <td>-0.672547</td>\n",
       "      <td>0.118930</td>\n",
       "      <td>0.343225</td>\n",
       "      <td>-0.366099</td>\n",
       "      <td>-0.518147</td>\n",
       "    </tr>\n",
       "    <tr>\n",
       "      <th>Humidity9am</th>\n",
       "      <td>0.051414</td>\n",
       "      <td>-0.186565</td>\n",
       "      <td>0.325317</td>\n",
       "      <td>-0.392834</td>\n",
       "      <td>-0.488786</td>\n",
       "      <td>1.000000</td>\n",
       "      <td>0.658166</td>\n",
       "      <td>0.263667</td>\n",
       "      <td>0.250584</td>\n",
       "      <td>0.421120</td>\n",
       "      <td>0.328655</td>\n",
       "      <td>-0.146881</td>\n",
       "      <td>-0.154509</td>\n",
       "      <td>0.400609</td>\n",
       "      <td>0.329028</td>\n",
       "    </tr>\n",
       "    <tr>\n",
       "      <th>Humidity3pm</th>\n",
       "      <td>0.268493</td>\n",
       "      <td>-0.151423</td>\n",
       "      <td>0.297306</td>\n",
       "      <td>-0.101913</td>\n",
       "      <td>-0.577456</td>\n",
       "      <td>0.658166</td>\n",
       "      <td>1.000000</td>\n",
       "      <td>0.154728</td>\n",
       "      <td>0.182526</td>\n",
       "      <td>0.451254</td>\n",
       "      <td>0.468559</td>\n",
       "      <td>0.129053</td>\n",
       "      <td>-0.211574</td>\n",
       "      <td>0.342946</td>\n",
       "      <td>0.471259</td>\n",
       "    </tr>\n",
       "    <tr>\n",
       "      <th>Pressure9am</th>\n",
       "      <td>-0.394483</td>\n",
       "      <td>-0.387279</td>\n",
       "      <td>-0.037228</td>\n",
       "      <td>-0.342737</td>\n",
       "      <td>-0.047482</td>\n",
       "      <td>0.263667</td>\n",
       "      <td>0.154728</td>\n",
       "      <td>1.000000</td>\n",
       "      <td>0.959057</td>\n",
       "      <td>-0.011087</td>\n",
       "      <td>-0.039443</td>\n",
       "      <td>-0.419407</td>\n",
       "      <td>-0.345728</td>\n",
       "      <td>-0.000251</td>\n",
       "      <td>-0.032757</td>\n",
       "    </tr>\n",
       "    <tr>\n",
       "      <th>Pressure3pm</th>\n",
       "      <td>-0.355941</td>\n",
       "      <td>-0.421108</td>\n",
       "      <td>0.001440</td>\n",
       "      <td>-0.296665</td>\n",
       "      <td>-0.096133</td>\n",
       "      <td>0.250584</td>\n",
       "      <td>0.182526</td>\n",
       "      <td>0.959057</td>\n",
       "      <td>1.000000</td>\n",
       "      <td>0.019472</td>\n",
       "      <td>-0.001486</td>\n",
       "      <td>-0.403467</td>\n",
       "      <td>-0.390433</td>\n",
       "      <td>0.056421</td>\n",
       "      <td>0.011177</td>\n",
       "    </tr>\n",
       "    <tr>\n",
       "      <th>Cloud9am</th>\n",
       "      <td>0.233242</td>\n",
       "      <td>-0.086987</td>\n",
       "      <td>0.237060</td>\n",
       "      <td>-0.038565</td>\n",
       "      <td>-0.656905</td>\n",
       "      <td>0.421120</td>\n",
       "      <td>0.451254</td>\n",
       "      <td>-0.011087</td>\n",
       "      <td>0.019472</td>\n",
       "      <td>1.000000</td>\n",
       "      <td>0.609291</td>\n",
       "      <td>0.086630</td>\n",
       "      <td>-0.088249</td>\n",
       "      <td>0.315736</td>\n",
       "      <td>0.328448</td>\n",
       "    </tr>\n",
       "    <tr>\n",
       "      <th>Cloud3pm</th>\n",
       "      <td>0.161734</td>\n",
       "      <td>-0.099731</td>\n",
       "      <td>0.196534</td>\n",
       "      <td>-0.037479</td>\n",
       "      <td>-0.672547</td>\n",
       "      <td>0.328655</td>\n",
       "      <td>0.468559</td>\n",
       "      <td>-0.039443</td>\n",
       "      <td>-0.001486</td>\n",
       "      <td>0.609291</td>\n",
       "      <td>1.000000</td>\n",
       "      <td>0.065784</td>\n",
       "      <td>-0.143694</td>\n",
       "      <td>0.259617</td>\n",
       "      <td>0.411826</td>\n",
       "    </tr>\n",
       "    <tr>\n",
       "      <th>Temp9am</th>\n",
       "      <td>0.935401</td>\n",
       "      <td>0.856139</td>\n",
       "      <td>-0.054653</td>\n",
       "      <td>0.600095</td>\n",
       "      <td>0.118930</td>\n",
       "      <td>-0.146881</td>\n",
       "      <td>0.129053</td>\n",
       "      <td>-0.419407</td>\n",
       "      <td>-0.403467</td>\n",
       "      <td>0.086630</td>\n",
       "      <td>0.065784</td>\n",
       "      <td>1.000000</td>\n",
       "      <td>0.826417</td>\n",
       "      <td>-0.074944</td>\n",
       "      <td>-0.000235</td>\n",
       "    </tr>\n",
       "    <tr>\n",
       "      <th>Temp3pm</th>\n",
       "      <td>0.750828</td>\n",
       "      <td>0.956014</td>\n",
       "      <td>-0.140135</td>\n",
       "      <td>0.471114</td>\n",
       "      <td>0.343225</td>\n",
       "      <td>-0.154509</td>\n",
       "      <td>-0.211574</td>\n",
       "      <td>-0.345728</td>\n",
       "      <td>-0.390433</td>\n",
       "      <td>-0.088249</td>\n",
       "      <td>-0.143694</td>\n",
       "      <td>0.826417</td>\n",
       "      <td>1.000000</td>\n",
       "      <td>-0.189790</td>\n",
       "      <td>-0.189532</td>\n",
       "    </tr>\n",
       "    <tr>\n",
       "      <th>RainToday_Yes</th>\n",
       "      <td>0.017203</td>\n",
       "      <td>-0.187058</td>\n",
       "      <td>0.544560</td>\n",
       "      <td>-0.230769</td>\n",
       "      <td>-0.366099</td>\n",
       "      <td>0.400609</td>\n",
       "      <td>0.342946</td>\n",
       "      <td>-0.000251</td>\n",
       "      <td>0.056421</td>\n",
       "      <td>0.315736</td>\n",
       "      <td>0.259617</td>\n",
       "      <td>-0.074944</td>\n",
       "      <td>-0.189790</td>\n",
       "      <td>1.000000</td>\n",
       "      <td>0.340894</td>\n",
       "    </tr>\n",
       "    <tr>\n",
       "      <th>RainTomorrow_Yes</th>\n",
       "      <td>0.078575</td>\n",
       "      <td>-0.149355</td>\n",
       "      <td>0.290209</td>\n",
       "      <td>-0.065338</td>\n",
       "      <td>-0.518147</td>\n",
       "      <td>0.329028</td>\n",
       "      <td>0.471259</td>\n",
       "      <td>-0.032757</td>\n",
       "      <td>0.011177</td>\n",
       "      <td>0.328448</td>\n",
       "      <td>0.411826</td>\n",
       "      <td>-0.000235</td>\n",
       "      <td>-0.189532</td>\n",
       "      <td>0.340894</td>\n",
       "      <td>1.000000</td>\n",
       "    </tr>\n",
       "  </tbody>\n",
       "</table>\n",
       "</div>"
      ],
      "text/plain": [
       "                   MinTemp   MaxTemp  Rainfall  Evaporation  Sunshine  \\\n",
       "MinTemp           1.000000  0.769152  0.010794     0.563022 -0.057496   \n",
       "MaxTemp           0.769152  1.000000 -0.136544     0.505861  0.325380   \n",
       "Rainfall          0.010794 -0.136544  1.000000    -0.093370 -0.298494   \n",
       "Evaporation       0.563022  0.505861 -0.093370     1.000000  0.179006   \n",
       "Sunshine         -0.057496  0.325380 -0.298494     0.179006  1.000000   \n",
       "Humidity9am       0.051414 -0.186565  0.325317    -0.392834 -0.488786   \n",
       "Humidity3pm       0.268493 -0.151423  0.297306    -0.101913 -0.577456   \n",
       "Pressure9am      -0.394483 -0.387279 -0.037228    -0.342737 -0.047482   \n",
       "Pressure3pm      -0.355941 -0.421108  0.001440    -0.296665 -0.096133   \n",
       "Cloud9am          0.233242 -0.086987  0.237060    -0.038565 -0.656905   \n",
       "Cloud3pm          0.161734 -0.099731  0.196534    -0.037479 -0.672547   \n",
       "Temp9am           0.935401  0.856139 -0.054653     0.600095  0.118930   \n",
       "Temp3pm           0.750828  0.956014 -0.140135     0.471114  0.343225   \n",
       "RainToday_Yes     0.017203 -0.187058  0.544560    -0.230769 -0.366099   \n",
       "RainTomorrow_Yes  0.078575 -0.149355  0.290209    -0.065338 -0.518147   \n",
       "\n",
       "                  Humidity9am  Humidity3pm  Pressure9am  Pressure3pm  \\\n",
       "MinTemp              0.051414     0.268493    -0.394483    -0.355941   \n",
       "MaxTemp             -0.186565    -0.151423    -0.387279    -0.421108   \n",
       "Rainfall             0.325317     0.297306    -0.037228     0.001440   \n",
       "Evaporation         -0.392834    -0.101913    -0.342737    -0.296665   \n",
       "Sunshine            -0.488786    -0.577456    -0.047482    -0.096133   \n",
       "Humidity9am          1.000000     0.658166     0.263667     0.250584   \n",
       "Humidity3pm          0.658166     1.000000     0.154728     0.182526   \n",
       "Pressure9am          0.263667     0.154728     1.000000     0.959057   \n",
       "Pressure3pm          0.250584     0.182526     0.959057     1.000000   \n",
       "Cloud9am             0.421120     0.451254    -0.011087     0.019472   \n",
       "Cloud3pm             0.328655     0.468559    -0.039443    -0.001486   \n",
       "Temp9am             -0.146881     0.129053    -0.419407    -0.403467   \n",
       "Temp3pm             -0.154509    -0.211574    -0.345728    -0.390433   \n",
       "RainToday_Yes        0.400609     0.342946    -0.000251     0.056421   \n",
       "RainTomorrow_Yes     0.329028     0.471259    -0.032757     0.011177   \n",
       "\n",
       "                  Cloud9am  Cloud3pm   Temp9am   Temp3pm  RainToday_Yes  \\\n",
       "MinTemp           0.233242  0.161734  0.935401  0.750828       0.017203   \n",
       "MaxTemp          -0.086987 -0.099731  0.856139  0.956014      -0.187058   \n",
       "Rainfall          0.237060  0.196534 -0.054653 -0.140135       0.544560   \n",
       "Evaporation      -0.038565 -0.037479  0.600095  0.471114      -0.230769   \n",
       "Sunshine         -0.656905 -0.672547  0.118930  0.343225      -0.366099   \n",
       "Humidity9am       0.421120  0.328655 -0.146881 -0.154509       0.400609   \n",
       "Humidity3pm       0.451254  0.468559  0.129053 -0.211574       0.342946   \n",
       "Pressure9am      -0.011087 -0.039443 -0.419407 -0.345728      -0.000251   \n",
       "Pressure3pm       0.019472 -0.001486 -0.403467 -0.390433       0.056421   \n",
       "Cloud9am          1.000000  0.609291  0.086630 -0.088249       0.315736   \n",
       "Cloud3pm          0.609291  1.000000  0.065784 -0.143694       0.259617   \n",
       "Temp9am           0.086630  0.065784  1.000000  0.826417      -0.074944   \n",
       "Temp3pm          -0.088249 -0.143694  0.826417  1.000000      -0.189790   \n",
       "RainToday_Yes     0.315736  0.259617 -0.074944 -0.189790       1.000000   \n",
       "RainTomorrow_Yes  0.328448  0.411826 -0.000235 -0.189532       0.340894   \n",
       "\n",
       "                  RainTomorrow_Yes  \n",
       "MinTemp                   0.078575  \n",
       "MaxTemp                  -0.149355  \n",
       "Rainfall                  0.290209  \n",
       "Evaporation              -0.065338  \n",
       "Sunshine                 -0.518147  \n",
       "Humidity9am               0.329028  \n",
       "Humidity3pm               0.471259  \n",
       "Pressure9am              -0.032757  \n",
       "Pressure3pm               0.011177  \n",
       "Cloud9am                  0.328448  \n",
       "Cloud3pm                  0.411826  \n",
       "Temp9am                  -0.000235  \n",
       "Temp3pm                  -0.189532  \n",
       "RainToday_Yes             0.340894  \n",
       "RainTomorrow_Yes          1.000000  "
      ]
     },
     "execution_count": 34,
     "metadata": {},
     "output_type": "execute_result"
    }
   ],
   "source": [
    "df.corr()"
   ]
  },
  {
   "cell_type": "markdown",
   "id": "91ae5962-0cfc-4f5b-810c-d0d4e3e986a5",
   "metadata": {},
   "source": [
    "#####  Note:- By seeing the correlation matrix we can say that there some columns which are highly correlated because they are  having value greater than 0.80 and less than -0.80 . so, no need to remove some column\n",
    " - Temp9am is highly correlated to Mintemp(0.935401) and it has low correlated to our rain tommorow\n",
    " - Temp3pm is highly correlated to Maxtemp(0.956014) and it has low correlated to our rain tommorow\n",
    " - Pressure3pm is highly correlated with Pressure9am (0.959057) and it has low correlated to our rain tommorow\n",
    "\n",
    "So, deleting Column Temp9am,Temp3pm,Pressure3pm because if we kept them then it will lead to multi-colinierity"
   ]
  },
  {
   "cell_type": "code",
   "execution_count": 37,
   "id": "39ada808-59d2-45ad-8970-4d20fb6bab96",
   "metadata": {},
   "outputs": [],
   "source": [
    "#deleting Column Temp9am,Temp3pm,Pressure3pm\n",
    "del df['Temp9am']\n",
    "del df['Temp3pm']\n",
    "del df['Pressure3pm']\n"
   ]
  },
  {
   "cell_type": "code",
   "execution_count": 39,
   "id": "bd66a18a-5a7a-4757-8aa3-4080bf3e7727",
   "metadata": {},
   "outputs": [
    {
     "data": {
      "text/html": [
       "<div>\n",
       "<style scoped>\n",
       "    .dataframe tbody tr th:only-of-type {\n",
       "        vertical-align: middle;\n",
       "    }\n",
       "\n",
       "    .dataframe tbody tr th {\n",
       "        vertical-align: top;\n",
       "    }\n",
       "\n",
       "    .dataframe thead th {\n",
       "        text-align: right;\n",
       "    }\n",
       "</style>\n",
       "<table border=\"1\" class=\"dataframe\">\n",
       "  <thead>\n",
       "    <tr style=\"text-align: right;\">\n",
       "      <th></th>\n",
       "      <th>MinTemp</th>\n",
       "      <th>MaxTemp</th>\n",
       "      <th>Rainfall</th>\n",
       "      <th>Evaporation</th>\n",
       "      <th>Sunshine</th>\n",
       "      <th>Humidity9am</th>\n",
       "      <th>Humidity3pm</th>\n",
       "      <th>Pressure9am</th>\n",
       "      <th>Cloud9am</th>\n",
       "      <th>Cloud3pm</th>\n",
       "      <th>RainToday_Yes</th>\n",
       "      <th>RainTomorrow_Yes</th>\n",
       "    </tr>\n",
       "  </thead>\n",
       "  <tbody>\n",
       "    <tr>\n",
       "      <th>0</th>\n",
       "      <td>19</td>\n",
       "      <td>22</td>\n",
       "      <td>15</td>\n",
       "      <td>6</td>\n",
       "      <td>0</td>\n",
       "      <td>92</td>\n",
       "      <td>84</td>\n",
       "      <td>1017</td>\n",
       "      <td>8</td>\n",
       "      <td>8</td>\n",
       "      <td>1</td>\n",
       "      <td>1</td>\n",
       "    </tr>\n",
       "    <tr>\n",
       "      <th>1</th>\n",
       "      <td>19</td>\n",
       "      <td>25</td>\n",
       "      <td>6</td>\n",
       "      <td>3</td>\n",
       "      <td>2</td>\n",
       "      <td>83</td>\n",
       "      <td>73</td>\n",
       "      <td>1017</td>\n",
       "      <td>7</td>\n",
       "      <td>7</td>\n",
       "      <td>1</td>\n",
       "      <td>1</td>\n",
       "    </tr>\n",
       "    <tr>\n",
       "      <th>2</th>\n",
       "      <td>21</td>\n",
       "      <td>24</td>\n",
       "      <td>6</td>\n",
       "      <td>2</td>\n",
       "      <td>0</td>\n",
       "      <td>88</td>\n",
       "      <td>86</td>\n",
       "      <td>1016</td>\n",
       "      <td>7</td>\n",
       "      <td>8</td>\n",
       "      <td>1</td>\n",
       "      <td>1</td>\n",
       "    </tr>\n",
       "    <tr>\n",
       "      <th>3</th>\n",
       "      <td>20</td>\n",
       "      <td>22</td>\n",
       "      <td>18</td>\n",
       "      <td>2</td>\n",
       "      <td>0</td>\n",
       "      <td>83</td>\n",
       "      <td>90</td>\n",
       "      <td>1014</td>\n",
       "      <td>8</td>\n",
       "      <td>8</td>\n",
       "      <td>1</td>\n",
       "      <td>1</td>\n",
       "    </tr>\n",
       "    <tr>\n",
       "      <th>4</th>\n",
       "      <td>19</td>\n",
       "      <td>25</td>\n",
       "      <td>77</td>\n",
       "      <td>5</td>\n",
       "      <td>0</td>\n",
       "      <td>88</td>\n",
       "      <td>74</td>\n",
       "      <td>1008</td>\n",
       "      <td>8</td>\n",
       "      <td>8</td>\n",
       "      <td>1</td>\n",
       "      <td>1</td>\n",
       "    </tr>\n",
       "  </tbody>\n",
       "</table>\n",
       "</div>"
      ],
      "text/plain": [
       "   MinTemp  MaxTemp  Rainfall  Evaporation  Sunshine  Humidity9am  \\\n",
       "0       19       22        15            6         0           92   \n",
       "1       19       25         6            3         2           83   \n",
       "2       21       24         6            2         0           88   \n",
       "3       20       22        18            2         0           83   \n",
       "4       19       25        77            5         0           88   \n",
       "\n",
       "   Humidity3pm  Pressure9am  Cloud9am  Cloud3pm  RainToday_Yes  \\\n",
       "0           84         1017         8         8              1   \n",
       "1           73         1017         7         7              1   \n",
       "2           86         1016         7         8              1   \n",
       "3           90         1014         8         8              1   \n",
       "4           74         1008         8         8              1   \n",
       "\n",
       "   RainTomorrow_Yes  \n",
       "0                 1  \n",
       "1                 1  \n",
       "2                 1  \n",
       "3                 1  \n",
       "4                 1  "
      ]
     },
     "execution_count": 39,
     "metadata": {},
     "output_type": "execute_result"
    }
   ],
   "source": [
    "df.head()"
   ]
  },
  {
   "cell_type": "markdown",
   "id": "db918866-4648-485e-a0fb-b6c7380d3076",
   "metadata": {},
   "source": [
    "- <B> Outliers treatment </B>"
   ]
  },
  {
   "cell_type": "code",
   "execution_count": 42,
   "id": "48fbce47-98c3-4cdc-9fa0-8a647425d9d2",
   "metadata": {},
   "outputs": [
    {
     "data": {
      "text/html": [
       "<div>\n",
       "<style scoped>\n",
       "    .dataframe tbody tr th:only-of-type {\n",
       "        vertical-align: middle;\n",
       "    }\n",
       "\n",
       "    .dataframe tbody tr th {\n",
       "        vertical-align: top;\n",
       "    }\n",
       "\n",
       "    .dataframe thead th {\n",
       "        text-align: right;\n",
       "    }\n",
       "</style>\n",
       "<table border=\"1\" class=\"dataframe\">\n",
       "  <thead>\n",
       "    <tr style=\"text-align: right;\">\n",
       "      <th></th>\n",
       "      <th>MinTemp</th>\n",
       "      <th>MaxTemp</th>\n",
       "      <th>Rainfall</th>\n",
       "      <th>Evaporation</th>\n",
       "      <th>Sunshine</th>\n",
       "      <th>Humidity9am</th>\n",
       "      <th>Humidity3pm</th>\n",
       "      <th>Pressure9am</th>\n",
       "      <th>Cloud9am</th>\n",
       "      <th>Cloud3pm</th>\n",
       "      <th>RainToday_Yes</th>\n",
       "      <th>RainTomorrow_Yes</th>\n",
       "    </tr>\n",
       "  </thead>\n",
       "  <tbody>\n",
       "    <tr>\n",
       "      <th>count</th>\n",
       "      <td>3337.000000</td>\n",
       "      <td>3337.000000</td>\n",
       "      <td>3337.000000</td>\n",
       "      <td>3337.000000</td>\n",
       "      <td>3337.000000</td>\n",
       "      <td>3337.000000</td>\n",
       "      <td>3337.000000</td>\n",
       "      <td>3337.000000</td>\n",
       "      <td>3337.000000</td>\n",
       "      <td>3337.000000</td>\n",
       "      <td>3337.000000</td>\n",
       "      <td>3337.000000</td>\n",
       "    </tr>\n",
       "    <tr>\n",
       "      <th>mean</th>\n",
       "      <td>14.416242</td>\n",
       "      <td>22.553491</td>\n",
       "      <td>3.182799</td>\n",
       "      <td>4.814804</td>\n",
       "      <td>6.760563</td>\n",
       "      <td>68.228049</td>\n",
       "      <td>54.696434</td>\n",
       "      <td>1017.892119</td>\n",
       "      <td>4.150734</td>\n",
       "      <td>4.181900</td>\n",
       "      <td>0.259515</td>\n",
       "      <td>0.259215</td>\n",
       "    </tr>\n",
       "    <tr>\n",
       "      <th>std</th>\n",
       "      <td>4.552085</td>\n",
       "      <td>4.500556</td>\n",
       "      <td>9.803992</td>\n",
       "      <td>2.771988</td>\n",
       "      <td>3.760584</td>\n",
       "      <td>15.053675</td>\n",
       "      <td>16.261811</td>\n",
       "      <td>7.009097</td>\n",
       "      <td>2.506417</td>\n",
       "      <td>2.410918</td>\n",
       "      <td>0.438434</td>\n",
       "      <td>0.438269</td>\n",
       "    </tr>\n",
       "    <tr>\n",
       "      <th>min</th>\n",
       "      <td>4.000000</td>\n",
       "      <td>11.000000</td>\n",
       "      <td>0.000000</td>\n",
       "      <td>0.000000</td>\n",
       "      <td>0.000000</td>\n",
       "      <td>19.000000</td>\n",
       "      <td>10.000000</td>\n",
       "      <td>986.000000</td>\n",
       "      <td>0.000000</td>\n",
       "      <td>0.000000</td>\n",
       "      <td>0.000000</td>\n",
       "      <td>0.000000</td>\n",
       "    </tr>\n",
       "    <tr>\n",
       "      <th>25%</th>\n",
       "      <td>11.000000</td>\n",
       "      <td>19.000000</td>\n",
       "      <td>0.000000</td>\n",
       "      <td>3.000000</td>\n",
       "      <td>4.000000</td>\n",
       "      <td>58.000000</td>\n",
       "      <td>44.000000</td>\n",
       "      <td>1013.000000</td>\n",
       "      <td>2.000000</td>\n",
       "      <td>2.000000</td>\n",
       "      <td>0.000000</td>\n",
       "      <td>0.000000</td>\n",
       "    </tr>\n",
       "    <tr>\n",
       "      <th>50%</th>\n",
       "      <td>14.000000</td>\n",
       "      <td>22.000000</td>\n",
       "      <td>0.000000</td>\n",
       "      <td>4.000000</td>\n",
       "      <td>8.000000</td>\n",
       "      <td>69.000000</td>\n",
       "      <td>56.000000</td>\n",
       "      <td>1018.000000</td>\n",
       "      <td>4.000000</td>\n",
       "      <td>4.000000</td>\n",
       "      <td>0.000000</td>\n",
       "      <td>0.000000</td>\n",
       "    </tr>\n",
       "    <tr>\n",
       "      <th>75%</th>\n",
       "      <td>18.000000</td>\n",
       "      <td>26.000000</td>\n",
       "      <td>1.000000</td>\n",
       "      <td>7.000000</td>\n",
       "      <td>10.000000</td>\n",
       "      <td>80.000000</td>\n",
       "      <td>64.000000</td>\n",
       "      <td>1023.000000</td>\n",
       "      <td>7.000000</td>\n",
       "      <td>7.000000</td>\n",
       "      <td>1.000000</td>\n",
       "      <td>1.000000</td>\n",
       "    </tr>\n",
       "    <tr>\n",
       "      <th>max</th>\n",
       "      <td>27.000000</td>\n",
       "      <td>45.000000</td>\n",
       "      <td>119.000000</td>\n",
       "      <td>18.000000</td>\n",
       "      <td>13.000000</td>\n",
       "      <td>100.000000</td>\n",
       "      <td>99.000000</td>\n",
       "      <td>1039.000000</td>\n",
       "      <td>9.000000</td>\n",
       "      <td>8.000000</td>\n",
       "      <td>1.000000</td>\n",
       "      <td>1.000000</td>\n",
       "    </tr>\n",
       "  </tbody>\n",
       "</table>\n",
       "</div>"
      ],
      "text/plain": [
       "           MinTemp      MaxTemp     Rainfall  Evaporation     Sunshine  \\\n",
       "count  3337.000000  3337.000000  3337.000000  3337.000000  3337.000000   \n",
       "mean     14.416242    22.553491     3.182799     4.814804     6.760563   \n",
       "std       4.552085     4.500556     9.803992     2.771988     3.760584   \n",
       "min       4.000000    11.000000     0.000000     0.000000     0.000000   \n",
       "25%      11.000000    19.000000     0.000000     3.000000     4.000000   \n",
       "50%      14.000000    22.000000     0.000000     4.000000     8.000000   \n",
       "75%      18.000000    26.000000     1.000000     7.000000    10.000000   \n",
       "max      27.000000    45.000000   119.000000    18.000000    13.000000   \n",
       "\n",
       "       Humidity9am  Humidity3pm  Pressure9am     Cloud9am     Cloud3pm  \\\n",
       "count  3337.000000  3337.000000  3337.000000  3337.000000  3337.000000   \n",
       "mean     68.228049    54.696434  1017.892119     4.150734     4.181900   \n",
       "std      15.053675    16.261811     7.009097     2.506417     2.410918   \n",
       "min      19.000000    10.000000   986.000000     0.000000     0.000000   \n",
       "25%      58.000000    44.000000  1013.000000     2.000000     2.000000   \n",
       "50%      69.000000    56.000000  1018.000000     4.000000     4.000000   \n",
       "75%      80.000000    64.000000  1023.000000     7.000000     7.000000   \n",
       "max     100.000000    99.000000  1039.000000     9.000000     8.000000   \n",
       "\n",
       "       RainToday_Yes  RainTomorrow_Yes  \n",
       "count    3337.000000       3337.000000  \n",
       "mean        0.259515          0.259215  \n",
       "std         0.438434          0.438269  \n",
       "min         0.000000          0.000000  \n",
       "25%         0.000000          0.000000  \n",
       "50%         0.000000          0.000000  \n",
       "75%         1.000000          1.000000  \n",
       "max         1.000000          1.000000  "
      ]
     },
     "execution_count": 42,
     "metadata": {},
     "output_type": "execute_result"
    }
   ],
   "source": [
    "df.describe()"
   ]
  },
  {
   "cell_type": "code",
   "execution_count": 44,
   "id": "ebd27db4-9727-4119-a112-72c1e9f0a8d1",
   "metadata": {},
   "outputs": [
    {
     "data": {
      "text/plain": [
       "<Axes: ylabel='MinTemp'>"
      ]
     },
     "execution_count": 44,
     "metadata": {},
     "output_type": "execute_result"
    },
    {
     "data": {
      "image/png": "[encoded data removed]",
      "text/plain": [
       "<Figure size 640x480 with 1 Axes>"
      ]
     },
     "metadata": {},
     "output_type": "display_data"
    }
   ],
   "source": [
    "# creating plot box plot for detection of outliers using seaborn\n",
    "sns.boxplot(df['MinTemp'])"
   ]
  },
  {
   "cell_type": "code",
   "execution_count": 46,
   "id": "33c2b825-aad0-4d8c-b0fc-bdb9492cf93d",
   "metadata": {},
   "outputs": [
    {
     "data": {
      "text/plain": [
       "<Axes: ylabel='MaxTemp'>"
      ]
     },
     "execution_count": 46,
     "metadata": {},
     "output_type": "execute_result"
    },
    {
     "data": {
      "image/png": "[encoded data removed]",
      "text/plain": [
       "<Figure size 640x480 with 1 Axes>"
      ]
     },
     "metadata": {},
     "output_type": "display_data"
    }
   ],
   "source": [
    "sns.boxplot(df['MaxTemp'])"
   ]
  },
  {
   "cell_type": "code",
   "execution_count": 48,
   "id": "02f9f46c-2825-4792-822a-a457a4b33572",
   "metadata": {},
   "outputs": [
    {
     "data": {
      "text/plain": [
       "<Axes: ylabel='Rainfall'>"
      ]
     },
     "execution_count": 48,
     "metadata": {},
     "output_type": "execute_result"
    },
    {
     "data": {
      "image/png": "[encoded data removed]",
      "text/plain": [
       "<Figure size 640x480 with 1 Axes>"
      ]
     },
     "metadata": {},
     "output_type": "display_data"
    }
   ],
   "source": [
    "sns.boxplot(df['Rainfall'])"
   ]
  },
  {
   "cell_type": "code",
   "execution_count": 50,
   "id": "7dd5d221-9181-49ff-af07-a0174b618bc2",
   "metadata": {},
   "outputs": [
    {
     "data": {
      "text/plain": [
       "<Axes: ylabel='Evaporation'>"
      ]
     },
     "execution_count": 50,
     "metadata": {},
     "output_type": "execute_result"
    },
    {
     "data": {
      "image/png": "[encoded data removed]",
      "text/plain": [
       "<Figure size 640x480 with 1 Axes>"
      ]
     },
     "metadata": {},
     "output_type": "display_data"
    }
   ],
   "source": [
    "sns.boxplot(df['Evaporation'])"
   ]
  },
  {
   "cell_type": "code",
   "execution_count": 52,
   "id": "37b0f79f-6c2c-4061-9373-ccb3d2540b62",
   "metadata": {},
   "outputs": [
    {
     "data": {
      "text/plain": [
       "<Axes: ylabel='Sunshine'>"
      ]
     },
     "execution_count": 52,
     "metadata": {},
     "output_type": "execute_result"
    },
    {
     "data": {
      "image/png": "[encoded data removed]",
      "text/plain": [
       "<Figure size 640x480 with 1 Axes>"
      ]
     },
     "metadata": {},
     "output_type": "display_data"
    }
   ],
   "source": [
    "sns.boxplot(df['Sunshine'])"
   ]
  },
  {
   "cell_type": "code",
   "execution_count": 54,
   "id": "3904ccf8-97f0-422e-b6a6-d6236fd4b783",
   "metadata": {},
   "outputs": [
    {
     "data": {
      "text/plain": [
       "<Axes: ylabel='Humidity9am'>"
      ]
     },
     "execution_count": 54,
     "metadata": {},
     "output_type": "execute_result"
    },
    {
     "data": {
      "image/png": "[encoded data removed]",
      "text/plain": [
       "<Figure size 640x480 with 1 Axes>"
      ]
     },
     "metadata": {},
     "output_type": "display_data"
    }
   ],
   "source": [
    "sns.boxplot(df['Humidity9am'])"
   ]
  },
  {
   "cell_type": "code",
   "execution_count": 56,
   "id": "226b6c78-54f9-4ded-bce3-42484b44e630",
   "metadata": {},
   "outputs": [
    {
     "data": {
      "text/plain": [
       "<Axes: ylabel='Humidity3pm'>"
      ]
     },
     "execution_count": 56,
     "metadata": {},
     "output_type": "execute_result"
    },
    {
     "data": {
      "image/png": "[encoded data removed]",
      "text/plain": [
       "<Figure size 640x480 with 1 Axes>"
      ]
     },
     "metadata": {},
     "output_type": "display_data"
    }
   ],
   "source": [
    "sns.boxplot(df['Humidity3pm'])"
   ]
  },
  {
   "cell_type": "code",
   "execution_count": 58,
   "id": "5930497c-2d4f-4bb7-9169-d461e1190f66",
   "metadata": {},
   "outputs": [
    {
     "data": {
      "text/plain": [
       "<Axes: ylabel='Pressure9am'>"
      ]
     },
     "execution_count": 58,
     "metadata": {},
     "output_type": "execute_result"
    },
    {
     "data": {
      "image/png": "[encoded data removed]",
      "text/plain": [
       "<Figure size 640x480 with 1 Axes>"
      ]
     },
     "metadata": {},
     "output_type": "display_data"
    }
   ],
   "source": [
    "sns.boxplot(df['Pressure9am'])"
   ]
  },
  {
   "cell_type": "code",
   "execution_count": 60,
   "id": "4865b7a0-1244-45ae-a5a2-7789bf835cfc",
   "metadata": {},
   "outputs": [
    {
     "data": {
      "text/plain": [
       "<Axes: ylabel='Cloud9am'>"
      ]
     },
     "execution_count": 60,
     "metadata": {},
     "output_type": "execute_result"
    },
    {
     "data": {
      "image/png": "[encoded data removed]",
      "text/plain": [
       "<Figure size 640x480 with 1 Axes>"
      ]
     },
     "metadata": {},
     "output_type": "display_data"
    }
   ],
   "source": [
    "sns.boxplot(df['Cloud9am'])"
   ]
  },
  {
   "cell_type": "code",
   "execution_count": 62,
   "id": "b76474b0-79ce-44ac-8c11-62533c3e7355",
   "metadata": {},
   "outputs": [
    {
     "data": {
      "text/plain": [
       "<Axes: ylabel='Cloud3pm'>"
      ]
     },
     "execution_count": 62,
     "metadata": {},
     "output_type": "execute_result"
    },
    {
     "data": {
      "image/png": "[encoded data removed]",
      "text/plain": [
       "<Figure size 640x480 with 1 Axes>"
      ]
     },
     "metadata": {},
     "output_type": "display_data"
    }
   ],
   "source": [
    "sns.boxplot(df['Cloud3pm'])"
   ]
  },
  {
   "cell_type": "markdown",
   "id": "8498f6ca-a2da-405d-8727-18190a88489c",
   "metadata": {},
   "source": [
    "##### Note: The outliers are present in column maxtemp , pressure9am , Humidity9am , Humidity3pm , Rainfall , Evaporation"
   ]
  },
  {
   "cell_type": "markdown",
   "id": "0842e231-a2aa-4ddd-ba27-c76eac45e8df",
   "metadata": {},
   "source": [
    "##### <b> Outlier treatment in MaxTemp column "
   ]
  },
  {
   "cell_type": "code",
   "execution_count": 66,
   "id": "cdd763e9-5525-4a1d-8eb1-2ff62ab28175",
   "metadata": {},
   "outputs": [
    {
     "name": "stdout",
     "output_type": "stream",
     "text": [
      "This is upper limit 36.5\n",
      "This is lower limit 8.5\n"
     ]
    }
   ],
   "source": [
    "percent25 = df['MaxTemp'].quantile(0.25)  #getting 25 percentile value\n",
    "percent75 = df['MaxTemp'].quantile(0.75)  #getting 75 percentile value\n",
    "\n",
    "iqr = percent75-percent25    #calculation our 50% data range\n",
    "\n",
    "#setting upper and lower limit\n",
    "upper_limit = percent75 + 1.5*iqr\n",
    "lower_limit = percent25 - 1.5*iqr\n",
    "\n",
    "print(\"This is upper limit\", upper_limit)\n",
    "print(\"This is lower limit\", lower_limit)\n",
    "\n"
   ]
  },
  {
   "cell_type": "code",
   "execution_count": 68,
   "id": "a83f09c5-3db0-40d9-ab89-0392300921ac",
   "metadata": {},
   "outputs": [
    {
     "data": {
      "text/html": [
       "<div>\n",
       "<style scoped>\n",
       "    .dataframe tbody tr th:only-of-type {\n",
       "        vertical-align: middle;\n",
       "    }\n",
       "\n",
       "    .dataframe tbody tr th {\n",
       "        vertical-align: top;\n",
       "    }\n",
       "\n",
       "    .dataframe thead th {\n",
       "        text-align: right;\n",
       "    }\n",
       "</style>\n",
       "<table border=\"1\" class=\"dataframe\">\n",
       "  <thead>\n",
       "    <tr style=\"text-align: right;\">\n",
       "      <th></th>\n",
       "      <th>MinTemp</th>\n",
       "      <th>MaxTemp</th>\n",
       "      <th>Rainfall</th>\n",
       "      <th>Evaporation</th>\n",
       "      <th>Sunshine</th>\n",
       "      <th>Humidity9am</th>\n",
       "      <th>Humidity3pm</th>\n",
       "      <th>Pressure9am</th>\n",
       "      <th>Cloud9am</th>\n",
       "      <th>Cloud3pm</th>\n",
       "      <th>RainToday_Yes</th>\n",
       "      <th>RainTomorrow_Yes</th>\n",
       "    </tr>\n",
       "  </thead>\n",
       "  <tbody>\n",
       "    <tr>\n",
       "      <th>358</th>\n",
       "      <td>24</td>\n",
       "      <td>40</td>\n",
       "      <td>0</td>\n",
       "      <td>10</td>\n",
       "      <td>11</td>\n",
       "      <td>55</td>\n",
       "      <td>20</td>\n",
       "      <td>1004</td>\n",
       "      <td>6</td>\n",
       "      <td>2</td>\n",
       "      <td>0</td>\n",
       "      <td>0</td>\n",
       "    </tr>\n",
       "    <tr>\n",
       "      <th>660</th>\n",
       "      <td>21</td>\n",
       "      <td>40</td>\n",
       "      <td>0</td>\n",
       "      <td>7</td>\n",
       "      <td>6</td>\n",
       "      <td>75</td>\n",
       "      <td>19</td>\n",
       "      <td>1005</td>\n",
       "      <td>6</td>\n",
       "      <td>7</td>\n",
       "      <td>0</td>\n",
       "      <td>0</td>\n",
       "    </tr>\n",
       "    <tr>\n",
       "      <th>722</th>\n",
       "      <td>25</td>\n",
       "      <td>41</td>\n",
       "      <td>0</td>\n",
       "      <td>13</td>\n",
       "      <td>5</td>\n",
       "      <td>28</td>\n",
       "      <td>17</td>\n",
       "      <td>1007</td>\n",
       "      <td>5</td>\n",
       "      <td>5</td>\n",
       "      <td>0</td>\n",
       "      <td>1</td>\n",
       "    </tr>\n",
       "    <tr>\n",
       "      <th>742</th>\n",
       "      <td>23</td>\n",
       "      <td>37</td>\n",
       "      <td>0</td>\n",
       "      <td>9</td>\n",
       "      <td>9</td>\n",
       "      <td>71</td>\n",
       "      <td>32</td>\n",
       "      <td>1008</td>\n",
       "      <td>6</td>\n",
       "      <td>7</td>\n",
       "      <td>0</td>\n",
       "      <td>1</td>\n",
       "    </tr>\n",
       "    <tr>\n",
       "      <th>1095</th>\n",
       "      <td>25</td>\n",
       "      <td>37</td>\n",
       "      <td>0</td>\n",
       "      <td>10</td>\n",
       "      <td>5</td>\n",
       "      <td>58</td>\n",
       "      <td>54</td>\n",
       "      <td>1011</td>\n",
       "      <td>4</td>\n",
       "      <td>4</td>\n",
       "      <td>0</td>\n",
       "      <td>0</td>\n",
       "    </tr>\n",
       "  </tbody>\n",
       "</table>\n",
       "</div>"
      ],
      "text/plain": [
       "      MinTemp  MaxTemp  Rainfall  Evaporation  Sunshine  Humidity9am  \\\n",
       "358        24       40         0           10        11           55   \n",
       "660        21       40         0            7         6           75   \n",
       "722        25       41         0           13         5           28   \n",
       "742        23       37         0            9         9           71   \n",
       "1095       25       37         0           10         5           58   \n",
       "\n",
       "      Humidity3pm  Pressure9am  Cloud9am  Cloud3pm  RainToday_Yes  \\\n",
       "358            20         1004         6         2              0   \n",
       "660            19         1005         6         7              0   \n",
       "722            17         1007         5         5              0   \n",
       "742            32         1008         6         7              0   \n",
       "1095           54         1011         4         4              0   \n",
       "\n",
       "      RainTomorrow_Yes  \n",
       "358                  0  \n",
       "660                  0  \n",
       "722                  1  \n",
       "742                  1  \n",
       "1095                 0  "
      ]
     },
     "execution_count": 68,
     "metadata": {},
     "output_type": "execute_result"
    }
   ],
   "source": [
    "#showing demo of 5 outliers of previous ctc\n",
    "df[(df['MaxTemp'] < lower_limit) | (df['MaxTemp'] > upper_limit)].head()"
   ]
  },
  {
   "cell_type": "code",
   "execution_count": 73,
   "id": "59bfb014-22c4-459a-9846-6a2b163b749c",
   "metadata": {},
   "outputs": [],
   "source": [
    "# Alternatively, using conditional indexing to remove all the outliers\n",
    "df.loc[df['MaxTemp'] > upper_limit, 'MaxTemp'] = upper_limit\n",
    "df.loc[df['MaxTemp'] < lower_limit, 'MaxTemp'] = lower_limit"
   ]
  },
  {
   "cell_type": "markdown",
   "id": "d3e03056-5902-4293-8dfa-f4b882223c02",
   "metadata": {},
   "source": [
    "##### <b> Outlier treatment in Rainfall column "
   ]
  },
  {
   "cell_type": "code",
   "execution_count": 76,
   "id": "cadcf028-7237-46f5-a903-86ad8789a739",
   "metadata": {},
   "outputs": [
    {
     "name": "stdout",
     "output_type": "stream",
     "text": [
      "This is upper limit 2.5\n",
      "This is lower limit -1.5\n"
     ]
    }
   ],
   "source": [
    "percent25 = df['Rainfall'].quantile(0.25)  #getting 25 percentile value\n",
    "percent75 = df['Rainfall'].quantile(0.75)  #getting 75 percentile value\n",
    "\n",
    "iqr = percent75-percent25    #calculation our 50% data range\n",
    "\n",
    "#setting upper and lower limit\n",
    "upper_limit = percent75 + 1.5*iqr\n",
    "lower_limit = percent25 - 1.5*iqr\n",
    "\n",
    "print(\"This is upper limit\", upper_limit)\n",
    "print(\"This is lower limit\", lower_limit)\n",
    "\n"
   ]
  },
  {
   "cell_type": "code",
   "execution_count": 78,
   "id": "903a3a79-4ca5-4449-ba73-b8e031010b5f",
   "metadata": {},
   "outputs": [
    {
     "data": {
      "text/html": [
       "<div>\n",
       "<style scoped>\n",
       "    .dataframe tbody tr th:only-of-type {\n",
       "        vertical-align: middle;\n",
       "    }\n",
       "\n",
       "    .dataframe tbody tr th {\n",
       "        vertical-align: top;\n",
       "    }\n",
       "\n",
       "    .dataframe thead th {\n",
       "        text-align: right;\n",
       "    }\n",
       "</style>\n",
       "<table border=\"1\" class=\"dataframe\">\n",
       "  <thead>\n",
       "    <tr style=\"text-align: right;\">\n",
       "      <th></th>\n",
       "      <th>MinTemp</th>\n",
       "      <th>MaxTemp</th>\n",
       "      <th>Rainfall</th>\n",
       "      <th>Evaporation</th>\n",
       "      <th>Sunshine</th>\n",
       "      <th>Humidity9am</th>\n",
       "      <th>Humidity3pm</th>\n",
       "      <th>Pressure9am</th>\n",
       "      <th>Cloud9am</th>\n",
       "      <th>Cloud3pm</th>\n",
       "      <th>RainToday_Yes</th>\n",
       "      <th>RainTomorrow_Yes</th>\n",
       "    </tr>\n",
       "  </thead>\n",
       "  <tbody>\n",
       "    <tr>\n",
       "      <th>0</th>\n",
       "      <td>19</td>\n",
       "      <td>22.0</td>\n",
       "      <td>15</td>\n",
       "      <td>6</td>\n",
       "      <td>0</td>\n",
       "      <td>92</td>\n",
       "      <td>84</td>\n",
       "      <td>1017</td>\n",
       "      <td>8</td>\n",
       "      <td>8</td>\n",
       "      <td>1</td>\n",
       "      <td>1</td>\n",
       "    </tr>\n",
       "    <tr>\n",
       "      <th>1</th>\n",
       "      <td>19</td>\n",
       "      <td>25.0</td>\n",
       "      <td>6</td>\n",
       "      <td>3</td>\n",
       "      <td>2</td>\n",
       "      <td>83</td>\n",
       "      <td>73</td>\n",
       "      <td>1017</td>\n",
       "      <td>7</td>\n",
       "      <td>7</td>\n",
       "      <td>1</td>\n",
       "      <td>1</td>\n",
       "    </tr>\n",
       "    <tr>\n",
       "      <th>2</th>\n",
       "      <td>21</td>\n",
       "      <td>24.0</td>\n",
       "      <td>6</td>\n",
       "      <td>2</td>\n",
       "      <td>0</td>\n",
       "      <td>88</td>\n",
       "      <td>86</td>\n",
       "      <td>1016</td>\n",
       "      <td>7</td>\n",
       "      <td>8</td>\n",
       "      <td>1</td>\n",
       "      <td>1</td>\n",
       "    </tr>\n",
       "    <tr>\n",
       "      <th>3</th>\n",
       "      <td>20</td>\n",
       "      <td>22.0</td>\n",
       "      <td>18</td>\n",
       "      <td>2</td>\n",
       "      <td>0</td>\n",
       "      <td>83</td>\n",
       "      <td>90</td>\n",
       "      <td>1014</td>\n",
       "      <td>8</td>\n",
       "      <td>8</td>\n",
       "      <td>1</td>\n",
       "      <td>1</td>\n",
       "    </tr>\n",
       "    <tr>\n",
       "      <th>4</th>\n",
       "      <td>19</td>\n",
       "      <td>25.0</td>\n",
       "      <td>77</td>\n",
       "      <td>5</td>\n",
       "      <td>0</td>\n",
       "      <td>88</td>\n",
       "      <td>74</td>\n",
       "      <td>1008</td>\n",
       "      <td>8</td>\n",
       "      <td>8</td>\n",
       "      <td>1</td>\n",
       "      <td>1</td>\n",
       "    </tr>\n",
       "  </tbody>\n",
       "</table>\n",
       "</div>"
      ],
      "text/plain": [
       "   MinTemp  MaxTemp  Rainfall  Evaporation  Sunshine  Humidity9am  \\\n",
       "0       19     22.0        15            6         0           92   \n",
       "1       19     25.0         6            3         2           83   \n",
       "2       21     24.0         6            2         0           88   \n",
       "3       20     22.0        18            2         0           83   \n",
       "4       19     25.0        77            5         0           88   \n",
       "\n",
       "   Humidity3pm  Pressure9am  Cloud9am  Cloud3pm  RainToday_Yes  \\\n",
       "0           84         1017         8         8              1   \n",
       "1           73         1017         7         7              1   \n",
       "2           86         1016         7         8              1   \n",
       "3           90         1014         8         8              1   \n",
       "4           74         1008         8         8              1   \n",
       "\n",
       "   RainTomorrow_Yes  \n",
       "0                 1  \n",
       "1                 1  \n",
       "2                 1  \n",
       "3                 1  \n",
       "4                 1  "
      ]
     },
     "execution_count": 78,
     "metadata": {},
     "output_type": "execute_result"
    }
   ],
   "source": [
    "#showing demo of 5 outliers of previous ctc\n",
    "df[(df['Rainfall'] < lower_limit) | (df['Rainfall'] > upper_limit)].head()"
   ]
  },
  {
   "cell_type": "code",
   "execution_count": 83,
   "id": "9eaa9ab7-70b3-42db-a4c6-f0e32dad2555",
   "metadata": {},
   "outputs": [],
   "source": [
    "# Alternatively, using conditional indexing to remove all the outliers\n",
    "df.loc[df['Rainfall'] > upper_limit, 'Rainfall'] = upper_limit\n",
    "df.loc[df['Rainfall'] < lower_limit, 'Rainfall'] = lower_limit"
   ]
  },
  {
   "cell_type": "markdown",
   "id": "ea1748b4-b07f-44a0-bd85-bd048d89a708",
   "metadata": {},
   "source": [
    "##### <b> Outlier treatment in Evaporation column "
   ]
  },
  {
   "cell_type": "code",
   "execution_count": 86,
   "id": "87cc66c6-98d9-4454-9683-d728edaea928",
   "metadata": {},
   "outputs": [
    {
     "name": "stdout",
     "output_type": "stream",
     "text": [
      "This is upper limit 13.0\n",
      "This is lower limit -3.0\n"
     ]
    }
   ],
   "source": [
    "percent25 = df['Evaporation'].quantile(0.25)  #getting 25 percentile value\n",
    "percent75 = df['Evaporation'].quantile(0.75)  #getting 75 percentile value\n",
    "\n",
    "iqr = percent75-percent25    #calculation our 50% data range\n",
    "\n",
    "#setting upper and lower limit\n",
    "upper_limit = percent75 + 1.5*iqr\n",
    "lower_limit = percent25 - 1.5*iqr\n",
    "\n",
    "print(\"This is upper limit\", upper_limit)\n",
    "print(\"This is lower limit\", lower_limit)\n",
    "\n"
   ]
  },
  {
   "cell_type": "code",
   "execution_count": 88,
   "id": "70260009-adb0-4b73-9c65-f0b81946c085",
   "metadata": {},
   "outputs": [
    {
     "data": {
      "text/html": [
       "<div>\n",
       "<style scoped>\n",
       "    .dataframe tbody tr th:only-of-type {\n",
       "        vertical-align: middle;\n",
       "    }\n",
       "\n",
       "    .dataframe tbody tr th {\n",
       "        vertical-align: top;\n",
       "    }\n",
       "\n",
       "    .dataframe thead th {\n",
       "        text-align: right;\n",
       "    }\n",
       "</style>\n",
       "<table border=\"1\" class=\"dataframe\">\n",
       "  <thead>\n",
       "    <tr style=\"text-align: right;\">\n",
       "      <th></th>\n",
       "      <th>MinTemp</th>\n",
       "      <th>MaxTemp</th>\n",
       "      <th>Rainfall</th>\n",
       "      <th>Evaporation</th>\n",
       "      <th>Sunshine</th>\n",
       "      <th>Humidity9am</th>\n",
       "      <th>Humidity3pm</th>\n",
       "      <th>Pressure9am</th>\n",
       "      <th>Cloud9am</th>\n",
       "      <th>Cloud3pm</th>\n",
       "      <th>RainToday_Yes</th>\n",
       "      <th>RainTomorrow_Yes</th>\n",
       "    </tr>\n",
       "  </thead>\n",
       "  <tbody>\n",
       "    <tr>\n",
       "      <th>349</th>\n",
       "      <td>23</td>\n",
       "      <td>33.0</td>\n",
       "      <td>0.0</td>\n",
       "      <td>14</td>\n",
       "      <td>9</td>\n",
       "      <td>61</td>\n",
       "      <td>39</td>\n",
       "      <td>1009</td>\n",
       "      <td>4</td>\n",
       "      <td>6</td>\n",
       "      <td>0</td>\n",
       "      <td>1</td>\n",
       "    </tr>\n",
       "    <tr>\n",
       "      <th>357</th>\n",
       "      <td>25</td>\n",
       "      <td>31.0</td>\n",
       "      <td>0.0</td>\n",
       "      <td>14</td>\n",
       "      <td>11</td>\n",
       "      <td>59</td>\n",
       "      <td>58</td>\n",
       "      <td>1009</td>\n",
       "      <td>1</td>\n",
       "      <td>2</td>\n",
       "      <td>0</td>\n",
       "      <td>0</td>\n",
       "    </tr>\n",
       "    <tr>\n",
       "      <th>373</th>\n",
       "      <td>21</td>\n",
       "      <td>28.0</td>\n",
       "      <td>0.0</td>\n",
       "      <td>14</td>\n",
       "      <td>12</td>\n",
       "      <td>69</td>\n",
       "      <td>53</td>\n",
       "      <td>1010</td>\n",
       "      <td>0</td>\n",
       "      <td>1</td>\n",
       "      <td>0</td>\n",
       "      <td>0</td>\n",
       "    </tr>\n",
       "    <tr>\n",
       "      <th>1098</th>\n",
       "      <td>27</td>\n",
       "      <td>35.0</td>\n",
       "      <td>0.0</td>\n",
       "      <td>16</td>\n",
       "      <td>2</td>\n",
       "      <td>56</td>\n",
       "      <td>77</td>\n",
       "      <td>1012</td>\n",
       "      <td>4</td>\n",
       "      <td>4</td>\n",
       "      <td>0</td>\n",
       "      <td>0</td>\n",
       "    </tr>\n",
       "    <tr>\n",
       "      <th>1740</th>\n",
       "      <td>21</td>\n",
       "      <td>25.0</td>\n",
       "      <td>0.0</td>\n",
       "      <td>18</td>\n",
       "      <td>6</td>\n",
       "      <td>64</td>\n",
       "      <td>44</td>\n",
       "      <td>999</td>\n",
       "      <td>6</td>\n",
       "      <td>6</td>\n",
       "      <td>0</td>\n",
       "      <td>0</td>\n",
       "    </tr>\n",
       "  </tbody>\n",
       "</table>\n",
       "</div>"
      ],
      "text/plain": [
       "      MinTemp  MaxTemp  Rainfall  Evaporation  Sunshine  Humidity9am  \\\n",
       "349        23     33.0       0.0           14         9           61   \n",
       "357        25     31.0       0.0           14        11           59   \n",
       "373        21     28.0       0.0           14        12           69   \n",
       "1098       27     35.0       0.0           16         2           56   \n",
       "1740       21     25.0       0.0           18         6           64   \n",
       "\n",
       "      Humidity3pm  Pressure9am  Cloud9am  Cloud3pm  RainToday_Yes  \\\n",
       "349            39         1009         4         6              0   \n",
       "357            58         1009         1         2              0   \n",
       "373            53         1010         0         1              0   \n",
       "1098           77         1012         4         4              0   \n",
       "1740           44          999         6         6              0   \n",
       "\n",
       "      RainTomorrow_Yes  \n",
       "349                  1  \n",
       "357                  0  \n",
       "373                  0  \n",
       "1098                 0  \n",
       "1740                 0  "
      ]
     },
     "execution_count": 88,
     "metadata": {},
     "output_type": "execute_result"
    }
   ],
   "source": [
    "#showing demo of 5 outliers of previous ctc\n",
    "df[(df['Evaporation'] < lower_limit) | (df['Evaporation'] > upper_limit)].head()"
   ]
  },
  {
   "cell_type": "code",
   "execution_count": 90,
   "id": "5033cde3-a19f-49a5-8fe6-c8282147f032",
   "metadata": {},
   "outputs": [],
   "source": [
    "# Alternatively, using conditional indexing to remove all the outliers\n",
    "df.loc[df['Evaporation'] > upper_limit, 'Evaporation'] = upper_limit\n",
    "df.loc[df['Evaporation'] < lower_limit, 'Evaporation'] = lower_limit"
   ]
  },
  {
   "cell_type": "markdown",
   "id": "37e4e866-93c0-4b5b-a92a-36bc438aa756",
   "metadata": {},
   "source": [
    "##### <b> Outlier treatment in Humidity9am column "
   ]
  },
  {
   "cell_type": "code",
   "execution_count": 93,
   "id": "acec6a5f-d9c9-4c07-9770-599e4e4a1fbd",
   "metadata": {},
   "outputs": [
    {
     "name": "stdout",
     "output_type": "stream",
     "text": [
      "This is upper limit 113.0\n",
      "This is lower limit 25.0\n"
     ]
    }
   ],
   "source": [
    "percent25 = df['Humidity9am'].quantile(0.25)  #getting 25 percentile value\n",
    "percent75 = df['Humidity9am'].quantile(0.75)  #getting 75 percentile value\n",
    "\n",
    "iqr = percent75-percent25    #calculation our 50% data range\n",
    "\n",
    "#setting upper and lower limit\n",
    "upper_limit = percent75 + 1.5*iqr\n",
    "lower_limit = percent25 - 1.5*iqr\n",
    "\n",
    "print(\"This is upper limit\", upper_limit)\n",
    "print(\"This is lower limit\", lower_limit)\n",
    "\n"
   ]
  },
  {
   "cell_type": "code",
   "execution_count": 95,
   "id": "1e2f375e-0408-4235-bda7-58c941f8759b",
   "metadata": {},
   "outputs": [
    {
     "data": {
      "text/html": [
       "<div>\n",
       "<style scoped>\n",
       "    .dataframe tbody tr th:only-of-type {\n",
       "        vertical-align: middle;\n",
       "    }\n",
       "\n",
       "    .dataframe tbody tr th {\n",
       "        vertical-align: top;\n",
       "    }\n",
       "\n",
       "    .dataframe thead th {\n",
       "        text-align: right;\n",
       "    }\n",
       "</style>\n",
       "<table border=\"1\" class=\"dataframe\">\n",
       "  <thead>\n",
       "    <tr style=\"text-align: right;\">\n",
       "      <th></th>\n",
       "      <th>MinTemp</th>\n",
       "      <th>MaxTemp</th>\n",
       "      <th>Rainfall</th>\n",
       "      <th>Evaporation</th>\n",
       "      <th>Sunshine</th>\n",
       "      <th>Humidity9am</th>\n",
       "      <th>Humidity3pm</th>\n",
       "      <th>Pressure9am</th>\n",
       "      <th>Cloud9am</th>\n",
       "      <th>Cloud3pm</th>\n",
       "      <th>RainToday_Yes</th>\n",
       "      <th>RainTomorrow_Yes</th>\n",
       "    </tr>\n",
       "  </thead>\n",
       "  <tbody>\n",
       "    <tr>\n",
       "      <th>590</th>\n",
       "      <td>17</td>\n",
       "      <td>32.0</td>\n",
       "      <td>0.0</td>\n",
       "      <td>8</td>\n",
       "      <td>10</td>\n",
       "      <td>24</td>\n",
       "      <td>17</td>\n",
       "      <td>1019</td>\n",
       "      <td>0</td>\n",
       "      <td>0</td>\n",
       "      <td>0</td>\n",
       "      <td>0</td>\n",
       "    </tr>\n",
       "    <tr>\n",
       "      <th>603</th>\n",
       "      <td>17</td>\n",
       "      <td>19.0</td>\n",
       "      <td>0.0</td>\n",
       "      <td>11</td>\n",
       "      <td>9</td>\n",
       "      <td>24</td>\n",
       "      <td>19</td>\n",
       "      <td>1004</td>\n",
       "      <td>1</td>\n",
       "      <td>3</td>\n",
       "      <td>0</td>\n",
       "      <td>0</td>\n",
       "    </tr>\n",
       "    <tr>\n",
       "      <th>608</th>\n",
       "      <td>14</td>\n",
       "      <td>33.0</td>\n",
       "      <td>0.0</td>\n",
       "      <td>7</td>\n",
       "      <td>10</td>\n",
       "      <td>21</td>\n",
       "      <td>10</td>\n",
       "      <td>1013</td>\n",
       "      <td>3</td>\n",
       "      <td>1</td>\n",
       "      <td>0</td>\n",
       "      <td>0</td>\n",
       "    </tr>\n",
       "    <tr>\n",
       "      <th>1647</th>\n",
       "      <td>16</td>\n",
       "      <td>21.0</td>\n",
       "      <td>0.0</td>\n",
       "      <td>10</td>\n",
       "      <td>8</td>\n",
       "      <td>22</td>\n",
       "      <td>22</td>\n",
       "      <td>1005</td>\n",
       "      <td>0</td>\n",
       "      <td>5</td>\n",
       "      <td>0</td>\n",
       "      <td>0</td>\n",
       "    </tr>\n",
       "    <tr>\n",
       "      <th>1675</th>\n",
       "      <td>20</td>\n",
       "      <td>34.0</td>\n",
       "      <td>0.0</td>\n",
       "      <td>10</td>\n",
       "      <td>10</td>\n",
       "      <td>22</td>\n",
       "      <td>59</td>\n",
       "      <td>1014</td>\n",
       "      <td>0</td>\n",
       "      <td>5</td>\n",
       "      <td>0</td>\n",
       "      <td>0</td>\n",
       "    </tr>\n",
       "  </tbody>\n",
       "</table>\n",
       "</div>"
      ],
      "text/plain": [
       "      MinTemp  MaxTemp  Rainfall  Evaporation  Sunshine  Humidity9am  \\\n",
       "590        17     32.0       0.0            8        10           24   \n",
       "603        17     19.0       0.0           11         9           24   \n",
       "608        14     33.0       0.0            7        10           21   \n",
       "1647       16     21.0       0.0           10         8           22   \n",
       "1675       20     34.0       0.0           10        10           22   \n",
       "\n",
       "      Humidity3pm  Pressure9am  Cloud9am  Cloud3pm  RainToday_Yes  \\\n",
       "590            17         1019         0         0              0   \n",
       "603            19         1004         1         3              0   \n",
       "608            10         1013         3         1              0   \n",
       "1647           22         1005         0         5              0   \n",
       "1675           59         1014         0         5              0   \n",
       "\n",
       "      RainTomorrow_Yes  \n",
       "590                  0  \n",
       "603                  0  \n",
       "608                  0  \n",
       "1647                 0  \n",
       "1675                 0  "
      ]
     },
     "execution_count": 95,
     "metadata": {},
     "output_type": "execute_result"
    }
   ],
   "source": [
    "#showing demo of 5 outliers of previous ctc\n",
    "df[(df['Humidity9am'] < lower_limit) | (df['Humidity9am'] > upper_limit)].head()"
   ]
  },
  {
   "cell_type": "code",
   "execution_count": 97,
   "id": "67166ec6-55df-446c-bcc1-9ef1803fce7a",
   "metadata": {},
   "outputs": [],
   "source": [
    "# Alternatively, using conditional indexing to remove all the outliers\n",
    "df.loc[df['Humidity9am'] > upper_limit, 'Humidity9am'] = upper_limit\n",
    "df.loc[df['Humidity9am'] < lower_limit, 'Humidity9am'] = lower_limit"
   ]
  },
  {
   "cell_type": "markdown",
   "id": "37612f14-9a61-480d-a007-fab3b5bd1204",
   "metadata": {},
   "source": [
    "##### <b> Outlier treatment in Humidity3pm column "
   ]
  },
  {
   "cell_type": "code",
   "execution_count": 100,
   "id": "ed722b0e-b682-44dd-a115-62fa47ff683a",
   "metadata": {},
   "outputs": [
    {
     "name": "stdout",
     "output_type": "stream",
     "text": [
      "This is upper limit 94.0\n",
      "This is lower limit 14.0\n"
     ]
    }
   ],
   "source": [
    "percent25 = df['Humidity3pm'].quantile(0.25)  #getting 25 percentile value\n",
    "percent75 = df['Humidity3pm'].quantile(0.75)  #getting 75 percentile value\n",
    "\n",
    "iqr = percent75-percent25    #calculation our 50% data range\n",
    "\n",
    "#setting upper and lower limit\n",
    "upper_limit = percent75 + 1.5*iqr\n",
    "lower_limit = percent25 - 1.5*iqr\n",
    "\n",
    "print(\"This is upper limit\", upper_limit)\n",
    "print(\"This is lower limit\", lower_limit)\n",
    "\n"
   ]
  },
  {
   "cell_type": "code",
   "execution_count": 102,
   "id": "0514d155-3809-49d0-a428-77701f265147",
   "metadata": {},
   "outputs": [
    {
     "data": {
      "text/html": [
       "<div>\n",
       "<style scoped>\n",
       "    .dataframe tbody tr th:only-of-type {\n",
       "        vertical-align: middle;\n",
       "    }\n",
       "\n",
       "    .dataframe tbody tr th {\n",
       "        vertical-align: top;\n",
       "    }\n",
       "\n",
       "    .dataframe thead th {\n",
       "        text-align: right;\n",
       "    }\n",
       "</style>\n",
       "<table border=\"1\" class=\"dataframe\">\n",
       "  <thead>\n",
       "    <tr style=\"text-align: right;\">\n",
       "      <th></th>\n",
       "      <th>MinTemp</th>\n",
       "      <th>MaxTemp</th>\n",
       "      <th>Rainfall</th>\n",
       "      <th>Evaporation</th>\n",
       "      <th>Sunshine</th>\n",
       "      <th>Humidity9am</th>\n",
       "      <th>Humidity3pm</th>\n",
       "      <th>Pressure9am</th>\n",
       "      <th>Cloud9am</th>\n",
       "      <th>Cloud3pm</th>\n",
       "      <th>RainToday_Yes</th>\n",
       "      <th>RainTomorrow_Yes</th>\n",
       "    </tr>\n",
       "  </thead>\n",
       "  <tbody>\n",
       "    <tr>\n",
       "      <th>608</th>\n",
       "      <td>14</td>\n",
       "      <td>33.0</td>\n",
       "      <td>0.0</td>\n",
       "      <td>7</td>\n",
       "      <td>10</td>\n",
       "      <td>25</td>\n",
       "      <td>10</td>\n",
       "      <td>1013</td>\n",
       "      <td>3</td>\n",
       "      <td>1</td>\n",
       "      <td>0</td>\n",
       "      <td>0</td>\n",
       "    </tr>\n",
       "    <tr>\n",
       "      <th>736</th>\n",
       "      <td>20</td>\n",
       "      <td>22.0</td>\n",
       "      <td>2.5</td>\n",
       "      <td>5</td>\n",
       "      <td>0</td>\n",
       "      <td>95</td>\n",
       "      <td>95</td>\n",
       "      <td>1015</td>\n",
       "      <td>7</td>\n",
       "      <td>8</td>\n",
       "      <td>1</td>\n",
       "      <td>1</td>\n",
       "    </tr>\n",
       "    <tr>\n",
       "      <th>1015</th>\n",
       "      <td>22</td>\n",
       "      <td>23.0</td>\n",
       "      <td>0.0</td>\n",
       "      <td>10</td>\n",
       "      <td>0</td>\n",
       "      <td>70</td>\n",
       "      <td>95</td>\n",
       "      <td>1012</td>\n",
       "      <td>4</td>\n",
       "      <td>4</td>\n",
       "      <td>0</td>\n",
       "      <td>1</td>\n",
       "    </tr>\n",
       "    <tr>\n",
       "      <th>1234</th>\n",
       "      <td>11</td>\n",
       "      <td>13.0</td>\n",
       "      <td>2.5</td>\n",
       "      <td>5</td>\n",
       "      <td>0</td>\n",
       "      <td>88</td>\n",
       "      <td>95</td>\n",
       "      <td>1018</td>\n",
       "      <td>4</td>\n",
       "      <td>4</td>\n",
       "      <td>1</td>\n",
       "      <td>1</td>\n",
       "    </tr>\n",
       "    <tr>\n",
       "      <th>1334</th>\n",
       "      <td>18</td>\n",
       "      <td>25.0</td>\n",
       "      <td>0.0</td>\n",
       "      <td>5</td>\n",
       "      <td>8</td>\n",
       "      <td>75</td>\n",
       "      <td>99</td>\n",
       "      <td>1012</td>\n",
       "      <td>4</td>\n",
       "      <td>4</td>\n",
       "      <td>0</td>\n",
       "      <td>0</td>\n",
       "    </tr>\n",
       "  </tbody>\n",
       "</table>\n",
       "</div>"
      ],
      "text/plain": [
       "      MinTemp  MaxTemp  Rainfall  Evaporation  Sunshine  Humidity9am  \\\n",
       "608        14     33.0       0.0            7        10           25   \n",
       "736        20     22.0       2.5            5         0           95   \n",
       "1015       22     23.0       0.0           10         0           70   \n",
       "1234       11     13.0       2.5            5         0           88   \n",
       "1334       18     25.0       0.0            5         8           75   \n",
       "\n",
       "      Humidity3pm  Pressure9am  Cloud9am  Cloud3pm  RainToday_Yes  \\\n",
       "608            10         1013         3         1              0   \n",
       "736            95         1015         7         8              1   \n",
       "1015           95         1012         4         4              0   \n",
       "1234           95         1018         4         4              1   \n",
       "1334           99         1012         4         4              0   \n",
       "\n",
       "      RainTomorrow_Yes  \n",
       "608                  0  \n",
       "736                  1  \n",
       "1015                 1  \n",
       "1234                 1  \n",
       "1334                 0  "
      ]
     },
     "execution_count": 102,
     "metadata": {},
     "output_type": "execute_result"
    }
   ],
   "source": [
    "#showing demo of 5 outliers of previous ctc\n",
    "df[(df['Humidity3pm'] < lower_limit) | (df['Humidity3pm'] > upper_limit)].head()"
   ]
  },
  {
   "cell_type": "code",
   "execution_count": 104,
   "id": "00070a60-cd41-47ea-9037-cacb528fdb84",
   "metadata": {},
   "outputs": [],
   "source": [
    "# Alternatively, using conditional indexing to remove all the outliers\n",
    "df.loc[df['Humidity3pm'] > upper_limit, 'Humidity3pm'] = upper_limit\n",
    "df.loc[df['Humidity3pm'] < lower_limit, 'Humidity3pm'] = lower_limit"
   ]
  },
  {
   "cell_type": "markdown",
   "id": "335d3df0-9393-4190-80ee-041324f3a00d",
   "metadata": {},
   "source": [
    "##### <b> Outlier treatment in Pressure9am column "
   ]
  },
  {
   "cell_type": "code",
   "execution_count": 107,
   "id": "4faaae4b-2c95-415b-807f-188ed913955b",
   "metadata": {},
   "outputs": [
    {
     "name": "stdout",
     "output_type": "stream",
     "text": [
      "This is upper limit 1038.0\n",
      "This is lower limit 998.0\n"
     ]
    }
   ],
   "source": [
    "percent25 = df['Pressure9am'].quantile(0.25)  #getting 25 percentile value\n",
    "percent75 = df['Pressure9am'].quantile(0.75)  #getting 75 percentile value\n",
    "\n",
    "iqr = percent75-percent25    #calculation our 50% data range\n",
    "\n",
    "#setting upper and lower limit\n",
    "upper_limit = percent75 + 1.5*iqr\n",
    "lower_limit = percent25 - 1.5*iqr\n",
    "\n",
    "print(\"This is upper limit\", upper_limit)\n",
    "print(\"This is lower limit\", lower_limit)\n",
    "\n"
   ]
  },
  {
   "cell_type": "code",
   "execution_count": 109,
   "id": "811ffbf7-47e8-4ea0-bfba-32a1bc2a1c70",
   "metadata": {},
   "outputs": [
    {
     "data": {
      "text/html": [
       "<div>\n",
       "<style scoped>\n",
       "    .dataframe tbody tr th:only-of-type {\n",
       "        vertical-align: middle;\n",
       "    }\n",
       "\n",
       "    .dataframe tbody tr th {\n",
       "        vertical-align: top;\n",
       "    }\n",
       "\n",
       "    .dataframe thead th {\n",
       "        text-align: right;\n",
       "    }\n",
       "</style>\n",
       "<table border=\"1\" class=\"dataframe\">\n",
       "  <thead>\n",
       "    <tr style=\"text-align: right;\">\n",
       "      <th></th>\n",
       "      <th>MinTemp</th>\n",
       "      <th>MaxTemp</th>\n",
       "      <th>Rainfall</th>\n",
       "      <th>Evaporation</th>\n",
       "      <th>Sunshine</th>\n",
       "      <th>Humidity9am</th>\n",
       "      <th>Humidity3pm</th>\n",
       "      <th>Pressure9am</th>\n",
       "      <th>Cloud9am</th>\n",
       "      <th>Cloud3pm</th>\n",
       "      <th>RainToday_Yes</th>\n",
       "      <th>RainTomorrow_Yes</th>\n",
       "    </tr>\n",
       "  </thead>\n",
       "  <tbody>\n",
       "    <tr>\n",
       "      <th>295</th>\n",
       "      <td>17</td>\n",
       "      <td>20.0</td>\n",
       "      <td>0.0</td>\n",
       "      <td>10</td>\n",
       "      <td>9</td>\n",
       "      <td>49</td>\n",
       "      <td>30</td>\n",
       "      <td>990</td>\n",
       "      <td>3</td>\n",
       "      <td>6</td>\n",
       "      <td>0</td>\n",
       "      <td>0</td>\n",
       "    </tr>\n",
       "    <tr>\n",
       "      <th>296</th>\n",
       "      <td>12</td>\n",
       "      <td>19.0</td>\n",
       "      <td>0.0</td>\n",
       "      <td>9</td>\n",
       "      <td>2</td>\n",
       "      <td>50</td>\n",
       "      <td>55</td>\n",
       "      <td>986</td>\n",
       "      <td>7</td>\n",
       "      <td>5</td>\n",
       "      <td>0</td>\n",
       "      <td>1</td>\n",
       "    </tr>\n",
       "    <tr>\n",
       "      <th>316</th>\n",
       "      <td>17</td>\n",
       "      <td>32.0</td>\n",
       "      <td>2.5</td>\n",
       "      <td>4</td>\n",
       "      <td>7</td>\n",
       "      <td>82</td>\n",
       "      <td>25</td>\n",
       "      <td>995</td>\n",
       "      <td>6</td>\n",
       "      <td>4</td>\n",
       "      <td>1</td>\n",
       "      <td>0</td>\n",
       "    </tr>\n",
       "    <tr>\n",
       "      <th>317</th>\n",
       "      <td>19</td>\n",
       "      <td>25.0</td>\n",
       "      <td>0.0</td>\n",
       "      <td>12</td>\n",
       "      <td>12</td>\n",
       "      <td>42</td>\n",
       "      <td>32</td>\n",
       "      <td>996</td>\n",
       "      <td>1</td>\n",
       "      <td>5</td>\n",
       "      <td>0</td>\n",
       "      <td>0</td>\n",
       "    </tr>\n",
       "    <tr>\n",
       "      <th>600</th>\n",
       "      <td>17</td>\n",
       "      <td>21.0</td>\n",
       "      <td>2.5</td>\n",
       "      <td>11</td>\n",
       "      <td>8</td>\n",
       "      <td>40</td>\n",
       "      <td>36</td>\n",
       "      <td>996</td>\n",
       "      <td>9</td>\n",
       "      <td>3</td>\n",
       "      <td>1</td>\n",
       "      <td>0</td>\n",
       "    </tr>\n",
       "  </tbody>\n",
       "</table>\n",
       "</div>"
      ],
      "text/plain": [
       "     MinTemp  MaxTemp  Rainfall  Evaporation  Sunshine  Humidity9am  \\\n",
       "295       17     20.0       0.0           10         9           49   \n",
       "296       12     19.0       0.0            9         2           50   \n",
       "316       17     32.0       2.5            4         7           82   \n",
       "317       19     25.0       0.0           12        12           42   \n",
       "600       17     21.0       2.5           11         8           40   \n",
       "\n",
       "     Humidity3pm  Pressure9am  Cloud9am  Cloud3pm  RainToday_Yes  \\\n",
       "295           30          990         3         6              0   \n",
       "296           55          986         7         5              0   \n",
       "316           25          995         6         4              1   \n",
       "317           32          996         1         5              0   \n",
       "600           36          996         9         3              1   \n",
       "\n",
       "     RainTomorrow_Yes  \n",
       "295                 0  \n",
       "296                 1  \n",
       "316                 0  \n",
       "317                 0  \n",
       "600                 0  "
      ]
     },
     "execution_count": 109,
     "metadata": {},
     "output_type": "execute_result"
    }
   ],
   "source": [
    "#showing demo of 5 outliers of previous ctc\n",
    "df[(df['Pressure9am'] < lower_limit) | (df['Pressure9am'] > upper_limit)].head()"
   ]
  },
  {
   "cell_type": "code",
   "execution_count": 111,
   "id": "586f04d9-f166-425f-a9c6-5cb38c3d8350",
   "metadata": {},
   "outputs": [],
   "source": [
    "# Alternatively, using conditional indexing to remove all the outliers\n",
    "df.loc[df['Pressure9am'] > upper_limit, 'Pressure9am'] = upper_limit\n",
    "df.loc[df['Pressure9am'] < lower_limit, 'Pressure9am'] = lower_limit"
   ]
  },
  {
   "cell_type": "markdown",
   "id": "2322978b-4170-4fa6-8ccc-9b0da1a9876e",
   "metadata": {},
   "source": [
    "### <b>  3. Train test split"
   ]
  },
  {
   "cell_type": "markdown",
   "id": "f737ec9c-da89-48e2-a0b1-bd4142da0c56",
   "metadata": {},
   "source": [
    "###   3.1 Train test split(Test size 0.2)"
   ]
  },
  {
   "cell_type": "code",
   "execution_count": 248,
   "id": "7c2973ed-4533-4494-a481-60860951147e",
   "metadata": {},
   "outputs": [],
   "source": [
    "# Split data into dependent and Independent Variable\n",
    "\n",
    "X = df.loc[:, df.columns != 'RainTomorrow_Yes']\n",
    "y = df['RainTomorrow_Yes']"
   ]
  },
  {
   "cell_type": "code",
   "execution_count": 250,
   "id": "4f74e731-0a80-4884-b74b-d7e42b8f55ce",
   "metadata": {},
   "outputs": [],
   "source": [
    "# Split Data into train and test with test_size = 0.2(80% data into train and 20% to test)\n",
    "\n",
    "from sklearn.model_selection import train_test_split  \n",
    "\n",
    "X_train, X_test, y_train, y_test = train_test_split(X, y, test_size = 0.2, random_state = 42)"
   ]
  },
  {
   "cell_type": "markdown",
   "id": "4cd0a2ff-8568-43c3-a439-12c3ea2f5347",
   "metadata": {},
   "source": [
    "##### checking our train test split"
   ]
  },
  {
   "cell_type": "code",
   "execution_count": 120,
   "id": "b5604038-8a2d-4582-8698-658c1e5b76fc",
   "metadata": {},
   "outputs": [
    {
     "data": {
      "text/plain": [
       "(2669, 11)"
      ]
     },
     "execution_count": 120,
     "metadata": {},
     "output_type": "execute_result"
    }
   ],
   "source": [
    "X_train.shape"
   ]
  },
  {
   "cell_type": "code",
   "execution_count": 122,
   "id": "32d42c6c-1abd-48f7-b42a-98d64d466041",
   "metadata": {},
   "outputs": [
    {
     "data": {
      "text/plain": [
       "(668, 11)"
      ]
     },
     "execution_count": 122,
     "metadata": {},
     "output_type": "execute_result"
    }
   ],
   "source": [
    "X_test.shape"
   ]
  },
  {
   "cell_type": "code",
   "execution_count": 124,
   "id": "393237fe-5c3d-48cf-aace-46830b8b2002",
   "metadata": {},
   "outputs": [
    {
     "data": {
      "text/plain": [
       "2208    0\n",
       "3300    0\n",
       "1309    0\n",
       "1472    1\n",
       "582     0\n",
       "Name: RainTomorrow_Yes, dtype: int32"
      ]
     },
     "execution_count": 124,
     "metadata": {},
     "output_type": "execute_result"
    }
   ],
   "source": [
    "y_train.head()"
   ]
  },
  {
   "cell_type": "code",
   "execution_count": 126,
   "id": "3fec1a01-042e-4ef3-9b11-32f90ccf460f",
   "metadata": {},
   "outputs": [
    {
     "data": {
      "text/plain": [
       "321     0\n",
       "3095    1\n",
       "727     1\n",
       "1334    0\n",
       "1569    0\n",
       "Name: RainTomorrow_Yes, dtype: int32"
      ]
     },
     "execution_count": 126,
     "metadata": {},
     "output_type": "execute_result"
    }
   ],
   "source": [
    "y_test.head()"
   ]
  },
  {
   "cell_type": "markdown",
   "id": "0c9abe96-882f-4a98-88e2-8eb22297d1e5",
   "metadata": {},
   "source": [
    "#### <B> scaling the data </B>"
   ]
  },
  {
   "cell_type": "code",
   "execution_count": 252,
   "id": "345c96f3-ef21-4ac6-9b07-c631416792d5",
   "metadata": {},
   "outputs": [],
   "source": [
    "# Import Standard scaler from sklearn for feature scaling(mean=0, std dev=1)\n",
    "from sklearn.preprocessing import StandardScaler\n",
    "\n",
    "# Create standard scaler object\n",
    "scaler = StandardScaler()\n",
    "\n",
    "# Scale the features in the training data using a previously fitted scaler\n",
    "X_train_s = scaler.fit_transform(X_train)\n",
    "\n",
    "# Scale the features in the test data using the same scaler to ensure consistency\n",
    "X_test_s = scaler.transform(X_test)\n"
   ]
  },
  {
   "cell_type": "markdown",
   "id": "8c6789a3-2845-41bb-9d48-f2da46966bd4",
   "metadata": {},
   "source": [
    "### <B> 4. Model Selection and Statistics for accuracy"
   ]
  },
  {
   "cell_type": "markdown",
   "id": "24dc9fa8-f02f-4683-a213-88f03aa6f89f",
   "metadata": {},
   "source": [
    "### 4.1 Machine Learning models with feature scaling and test size 0.2"
   ]
  },
  {
   "cell_type": "markdown",
   "id": "97883be8-551c-4af4-8ca1-4ffa442bb241",
   "metadata": {},
   "source": [
    "#### <b> A) Logistic  regression (test size 0.2 and with feature scaling)"
   ]
  },
  {
   "cell_type": "code",
   "execution_count": 134,
   "id": "dfdb0680-15cb-4a4f-9e48-b92347ba967c",
   "metadata": {},
   "outputs": [],
   "source": [
    "#importing required libraries\n",
    "from sklearn.metrics import accuracy_score,confusion_matrix"
   ]
  },
  {
   "cell_type": "code",
   "execution_count": 254,
   "id": "95f4fc34-e4c9-4036-b15a-dca704490390",
   "metadata": {},
   "outputs": [
    {
     "name": "stdout",
     "output_type": "stream",
     "text": [
      "confusion matrix: [[446  38]\n",
      " [ 85  99]]\n",
      "accuracy score: 0.8158682634730539\n"
     ]
    }
   ],
   "source": [
    "#importing logistic regression\n",
    "from sklearn.linear_model import LogisticRegression\n",
    "\n",
    "# Create a LogisticRegression model\n",
    "logistic_clf = LogisticRegression()\n",
    "\n",
    "# Fit the model to the training data\n",
    "logistic_clf.fit(X_train_s, y_train)\n",
    "\n",
    "# Make predictions on the test data\n",
    "logistic_clf_pred = logistic_clf.predict(X_test_s)\n",
    "\n",
    "\n",
    "# Calculate and print the confusion_matrix\n",
    "print(\"confusion matrix:\",confusion_matrix(y_test, logistic_clf_pred))\n",
    "\n",
    "# Calculate and print the accuracy score\n",
    "print(\"accuracy score:\", accuracy_score(y_test, logistic_clf_pred))\n",
    "\n"
   ]
  },
  {
   "cell_type": "markdown",
   "id": "8a1506bf-3616-4447-81c7-8e768768dccd",
   "metadata": {},
   "source": [
    "#### <b> B) LDA (Linear Disriminant Analysis) (test size 0.2 and with feature scaling)"
   ]
  },
  {
   "cell_type": "code",
   "execution_count": 257,
   "id": "13185039-eb6c-47db-bc7e-f8b770e37688",
   "metadata": {},
   "outputs": [
    {
     "name": "stdout",
     "output_type": "stream",
     "text": [
      "confusion matrix: [[442  42]\n",
      " [ 78 106]]\n",
      "accuracy score: 0.8203592814371258\n"
     ]
    }
   ],
   "source": [
    "#importing LDA\n",
    "from sklearn.discriminant_analysis import LinearDiscriminantAnalysis\n",
    "\n",
    "# Create a LDA model = LinearDiscriminantAnalysis()\n",
    "LDA_clf = LinearDiscriminantAnalysis()\n",
    "\n",
    "# Fit the model to the training data\n",
    "LDA_clf.fit(X_train_s, y_train)\n",
    "\n",
    "# Make predictions on the test data\n",
    "LDA_clf_pred = LDA_clf.predict(X_test_s)\n",
    "\n",
    "# Calculate and print the confusion_matrix\n",
    "print(\"confusion matrix:\",confusion_matrix(y_test, LDA_clf_pred))\n",
    "\n",
    "# Calculate and print the accuracy score\n",
    "print(\"accuracy score:\", accuracy_score(y_test, LDA_clf_pred))\n"
   ]
  },
  {
   "cell_type": "markdown",
   "id": "b88b8d99-8eb2-4124-a798-bd74d2bc47cb",
   "metadata": {},
   "source": [
    "#### <b> C) KNN(K-nearest neighbour) (test size 0.2 and with feature scaling)"
   ]
  },
  {
   "cell_type": "code",
   "execution_count": 260,
   "id": "793dffe7-ff31-47fa-a858-901a758434a2",
   "metadata": {},
   "outputs": [
    {
     "name": "stdout",
     "output_type": "stream",
     "text": [
      "confusion matrix: [[424  60]\n",
      " [ 79 105]]\n",
      "accuracy score: 0.7919161676646707\n"
     ]
    }
   ],
   "source": [
    "\n",
    "#importing KNN\n",
    "from sklearn.neighbors import KNeighborsClassifier\n",
    "\n",
    "# Create a variable for fitting model\n",
    "KNN_clf = KNeighborsClassifier(n_neighbors=3)\n",
    "\n",
    "# Fit the model to the training data\n",
    "KNN_clf.fit(X_train_s, y_train)\n",
    "\n",
    "# Make predictions on the test data\n",
    "KNN_clf_pred = KNN_clf.predict(X_test_s)\n",
    "\n",
    "# Calculate and print the confusion_matrix\n",
    "print(\"confusion matrix:\",confusion_matrix(y_test, KNN_clf_pred))\n",
    "\n",
    "# Calculate and print the accuracy score\n",
    "print(\"accuracy score:\", accuracy_score(y_test, KNN_clf_pred))\n"
   ]
  },
  {
   "cell_type": "markdown",
   "id": "8106821b-6c46-47e7-84c0-3c12177957a7",
   "metadata": {},
   "source": [
    "#### <b> D) Decision tree (test size 0.2 and with feature scaling)"
   ]
  },
  {
   "cell_type": "code",
   "execution_count": 263,
   "id": "9a218645-962e-4a8f-bc43-e02932f1637f",
   "metadata": {},
   "outputs": [
    {
     "name": "stdout",
     "output_type": "stream",
     "text": [
      "confusion matrix: [[444  40]\n",
      " [ 86  98]]\n",
      "accuracy score: 0.811377245508982\n"
     ]
    }
   ],
   "source": [
    "# Import DecisionTreeRegressor\n",
    "from sklearn.tree import DecisionTreeClassifier\n",
    "\n",
    "\n",
    "# Create a DecisionTreeClassifier model with best parameters\n",
    "dtc = DecisionTreeClassifier(max_depth=4,min_samples_leaf=80,min_samples_split = 20,random_state=42)\n",
    "\n",
    "# Train the model using the training data\n",
    "dtc.fit(X_train_s, y_train)\n",
    "\n",
    "# Train the model using the training data\n",
    "dtc_pred = dtc.predict(X_test_s)\n",
    "\n",
    "# Calculate and print the confusion_matrix\n",
    "print(\"confusion matrix:\",confusion_matrix(y_test, dtc_pred))\n",
    "\n",
    "# Calculate and print the accuracy score\n",
    "print(\"accuracy score:\", accuracy_score(y_test, dtc_pred))\n"
   ]
  },
  {
   "cell_type": "code",
   "execution_count": 265,
   "id": "db27308d-2a41-4be8-aea0-f486ac803dd2",
   "metadata": {},
   "outputs": [],
   "source": [
    "#importing gridsearchcv to get best parameter of decision tree\n",
    "from sklearn.model_selection import GridSearchCV\n",
    "\n",
    "# Parameters\n",
    "params_grid = {\"max_depth\": [4,5,6,7,8,9,10] ,\n",
    "              \"min_samples_leaf\" : [20,30,40,50,60,70,80,90,100,200],\n",
    "              \"min_samples_split\" : [20,30,40,50,60,70,80,90,100,200] }\n",
    "\n",
    "# Find best parameter for model\n",
    "grid_search = GridSearchCV(dtc, params_grid, n_jobs=-1, cv=5)\n",
    "\n",
    "#fiting model\n",
    "grid_search.fit(X_train_s, y_train)\n",
    "\n",
    "# Best parameters\n",
    "grid_search.best_params_\n",
    "\n",
    "# we fited the best model of dfr to cvdfr\n",
    "cvdfr = grid_search.best_estimator_\n",
    "\n",
    "# Train the model using the training data\n",
    "cvdtr_pred = dtc.predict(X_test_s)\n",
    "\n"
   ]
  },
  {
   "cell_type": "code",
   "execution_count": 266,
   "id": "970725c9-fdb7-4c36-adbb-d33562dbf661",
   "metadata": {},
   "outputs": [
    {
     "data": {
      "text/plain": [
       "{'max_depth': 4, 'min_samples_leaf': 80, 'min_samples_split': 20}"
      ]
     },
     "execution_count": 266,
     "metadata": {},
     "output_type": "execute_result"
    }
   ],
   "source": [
    "# Best parameters\n",
    "grid_search.best_params_"
   ]
  },
  {
   "cell_type": "code",
   "execution_count": 267,
   "id": "d2067c41-7305-4b44-b5de-32aea178a430",
   "metadata": {},
   "outputs": [
    {
     "data": {
      "image/png": "[encoded data removed]",
      "text/plain": [
       "<IPython.core.display.Image object>"
      ]
     },
     "execution_count": 267,
     "metadata": {},
     "output_type": "execute_result"
    }
   ],
   "source": [
    "#Plotting decision tree\n",
    "from sklearn import tree\n",
    "\n",
    "#creating dot file\n",
    "dot_data = tree.export_graphviz(dtc,out_file=None,feature_names = X_train.columns,filled = True)\n",
    "\n",
    "#importing library\n",
    "from IPython.display import Image\n",
    "import pydotplus\n",
    "graph=pydotplus.graph_from_dot_data(dot_data)\n",
    "Image(graph.create_png())"
   ]
  },
  {
   "cell_type": "markdown",
   "id": "6ff1870a-ef85-4806-bd95-dee73d0a1b08",
   "metadata": {},
   "source": [
    "### <B> E) Bagging  (test size 0.2 and with feature scaling)"
   ]
  },
  {
   "cell_type": "code",
   "execution_count": 272,
   "id": "3935c15f-ebec-439c-99ca-1bcdbbabd1d6",
   "metadata": {},
   "outputs": [
    {
     "name": "stdout",
     "output_type": "stream",
     "text": [
      "confusion matrix: [[442  42]\n",
      " [ 76 108]]\n",
      "accuracy score: 0.8233532934131736\n"
     ]
    }
   ],
   "source": [
    "#import tree\n",
    "from sklearn import tree\n",
    "\n",
    "\n",
    "# Create a DecisionTreeClassifier mode with best parameters\n",
    "dtc = DecisionTreeClassifier()\n",
    "\n",
    "#importing bagging\n",
    "from sklearn.ensemble import BaggingClassifier\n",
    "\n",
    "# Create bagging with parameter that we dont want to change\n",
    "bgg = BaggingClassifier(estimator= dtc,n_estimators=1000,bootstrap= True ,random_state=42,n_jobs=-1)\n",
    "\n",
    "# Fit model on train data\n",
    "bgg.fit(X_train_s, y_train)\n",
    "\n",
    "# Make prediction on test data\n",
    "bgg_pred = bgg.predict(X_test_s)\n",
    "\n",
    "# Calculate and print the confusion_matrix\n",
    "print(\"confusion matrix:\",confusion_matrix(y_test, bgg_pred))\n",
    "\n",
    "# Calculate and print the accuracy score\n",
    "print(\"accuracy score:\", accuracy_score(y_test, bgg_pred))\n",
    "\n",
    "\n"
   ]
  },
  {
   "cell_type": "markdown",
   "id": "caea303c-1cb5-47d6-b337-a7f8c3158d5e",
   "metadata": {},
   "source": [
    "### <B> F) Random Forest (test size 0.2 and with feature scaling)"
   ]
  },
  {
   "cell_type": "code",
   "execution_count": 275,
   "id": "2df4ea4a-1b6f-4a9d-beea-0f4eac9e209a",
   "metadata": {},
   "outputs": [
    {
     "name": "stdout",
     "output_type": "stream",
     "text": [
      "confusion matrix: [[450  34]\n",
      " [ 86  98]]\n",
      "accuracy score: 0.8203592814371258\n"
     ]
    }
   ],
   "source": [
    "# Import Random Forest from sklearn\n",
    "from sklearn.ensemble import RandomForestClassifier\n",
    "\n",
    "\n",
    "# Create Random forest Classifier\n",
    "rnd = RandomForestClassifier(n_estimators=1000,n_jobs=-1,random_state=42)\n",
    "\n",
    "# Fit model on train data\n",
    "rnd.fit(X_train_s, y_train)\n",
    "\n",
    "# Make prediction on test data\n",
    "rnd_pred = rnd.predict(X_test_s)\n",
    "\n",
    "# Calculate and print the confusion_matrix\n",
    "print(\"confusion matrix:\",confusion_matrix(y_test, rnd_pred))\n",
    "\n",
    "# Calculate and print the accuracy score\n",
    "print(\"accuracy score:\", accuracy_score(y_test, rnd_pred))\n",
    "\n"
   ]
  },
  {
   "cell_type": "markdown",
   "id": "9cacc37f-f3d3-4f82-8be5-dd76db6de921",
   "metadata": {},
   "source": [
    "#### <B> G) Gradient boost ( With feature scaling test size 0.2)"
   ]
  },
  {
   "cell_type": "code",
   "execution_count": 278,
   "id": "d285eee7-da22-48dc-b1fd-f5b2fe94c923",
   "metadata": {},
   "outputs": [
    {
     "name": "stdout",
     "output_type": "stream",
     "text": [
      "confusion matrix: [[447  37]\n",
      " [ 83 101]]\n",
      "accuracy score: 0.8203592814371258\n"
     ]
    }
   ],
   "source": [
    "# Import gradient boost from sklearn\n",
    "from sklearn.ensemble import GradientBoostingClassifier\n",
    "\n",
    "# Create gradient boost classifier with hyperparameters\n",
    "gbc = GradientBoostingClassifier(n_estimators=1000,random_state=42,learning_rate=0.02)\n",
    "\n",
    "# Fit model on train data\n",
    "gbc.fit(X_train_s, y_train)\n",
    "\n",
    "# Make prediction on test data\n",
    "gbc_pred = gbc.predict(X_test_s)\n",
    "\n",
    "# Calculate and print the confusion_matrix\n",
    "print(\"confusion matrix:\",confusion_matrix(y_test, gbc_pred))\n",
    "\n",
    "# Calculate and print the accuracy score\n",
    "print(\"accuracy score:\", accuracy_score(y_test, gbc_pred))\n",
    "\n"
   ]
  },
  {
   "cell_type": "markdown",
   "id": "92982a50-1baf-48c0-a508-6b672f0eb7b0",
   "metadata": {},
   "source": [
    "#### <B> H) Ada boost ( With feature scaling test size 0.2)"
   ]
  },
  {
   "cell_type": "code",
   "execution_count": 281,
   "id": "444f223a-51ce-42bf-8aac-4fb185235670",
   "metadata": {},
   "outputs": [
    {
     "name": "stdout",
     "output_type": "stream",
     "text": [
      "confusion matrix: [[466  18]\n",
      " [101  83]]\n",
      "accuracy score: 0.8218562874251497\n"
     ]
    }
   ],
   "source": [
    "# Import Ada boost from sklearn\n",
    "from sklearn.ensemble import AdaBoostClassifier\n",
    "\n",
    "# Create Ada boost Classifier with random forest\n",
    "abc = AdaBoostClassifier(learning_rate=0.02,n_estimators = 1000,random_state=42,algorithm='SAMME')\n",
    "\n",
    "# Fit model on train data\n",
    "abc.fit(X_train_s, y_train)\n",
    "\n",
    "# Make prediction on test data\n",
    "abc_pred = abc.predict(X_test_s)\n",
    "\n",
    "# Calculate and print the confusion_matrix\n",
    "print(\"confusion matrix:\",confusion_matrix(y_test, abc_pred))\n",
    "\n",
    "# Calculate and print the accuracy score\n",
    "print(\"accuracy score:\", accuracy_score(y_test, abc_pred))\n",
    "\n"
   ]
  },
  {
   "cell_type": "markdown",
   "id": "c66b5561-b4d9-42f7-92ef-26ff100855f1",
   "metadata": {},
   "source": [
    "#### <B> H) XG boost ( With feature scaling test size 0.2)"
   ]
  },
  {
   "cell_type": "code",
   "execution_count": 284,
   "id": "640df85d-2c78-4fbd-8b20-61f36df4d019",
   "metadata": {},
   "outputs": [
    {
     "name": "stdout",
     "output_type": "stream",
     "text": [
      "confusion matrix: [[446  38]\n",
      " [ 85  99]]\n",
      "accuracy score: 0.8158682634730539\n"
     ]
    }
   ],
   "source": [
    "# Import XG boost from sklearn\n",
    "import xgboost as xgb\n",
    "\n",
    "# Create xg boost classifier\n",
    "xgb_clf = xgb.XGBClassifier(n_estimators=1000,learning_rate=0.02,random_state=42,max_depth=3)\n",
    "\n",
    "# Fit model on train data\n",
    "xgb_clf.fit(X_train_s, y_train)\n",
    "\n",
    "# Make prediction on test data\n",
    "xgb_pred = xgb_clf.predict(X_test_s)\n",
    "\n",
    "# Calculate and print the confusion_matrix\n",
    "print(\"confusion matrix:\",confusion_matrix(y_test, xgb_pred))\n",
    "\n",
    "# Calculate and print the accuracy score\n",
    "print(\"accuracy score:\", accuracy_score(y_test, xgb_pred))\n",
    "\n",
    "\n"
   ]
  },
  {
   "cell_type": "markdown",
   "id": "52546c9e-b052-4513-97b6-a6abd284a6ae",
   "metadata": {},
   "source": [
    "###   3.2 Train test split(Test size 0.1)"
   ]
  },
  {
   "cell_type": "code",
   "execution_count": 287,
   "id": "8e36a2a8-07dc-4305-a6ac-c88157b45e62",
   "metadata": {},
   "outputs": [],
   "source": [
    "# Split Data into train and test with test_size = 0.1(80% data into train and 20% to test)\n",
    "\n",
    "from sklearn.model_selection import train_test_split  \n",
    "\n",
    "X_train, X_test, y_train, y_test = train_test_split(X, y, test_size = 0.1, random_state = 42)"
   ]
  },
  {
   "cell_type": "code",
   "execution_count": 174,
   "id": "f6a77ca1-5f0c-4d26-941a-913743bb7f11",
   "metadata": {},
   "outputs": [
    {
     "data": {
      "text/plain": [
       "(3003, 11)"
      ]
     },
     "execution_count": 174,
     "metadata": {},
     "output_type": "execute_result"
    }
   ],
   "source": [
    "X_train.shape"
   ]
  },
  {
   "cell_type": "code",
   "execution_count": 176,
   "id": "fc7e5fae-0848-40aa-a111-9476bffac05e",
   "metadata": {},
   "outputs": [
    {
     "data": {
      "text/plain": [
       "(334, 11)"
      ]
     },
     "execution_count": 176,
     "metadata": {},
     "output_type": "execute_result"
    }
   ],
   "source": [
    "X_test.shape"
   ]
  },
  {
   "cell_type": "markdown",
   "id": "d4fa591d-1b49-470d-8181-5efed5edb996",
   "metadata": {},
   "source": [
    "#### <B> scaling the data </B>"
   ]
  },
  {
   "cell_type": "code",
   "execution_count": 289,
   "id": "5696f50b-912c-4023-9092-3f603a348238",
   "metadata": {},
   "outputs": [],
   "source": [
    "# Import Standard scaler from sklearn for feature scaling(mean=0, std dev=1)\n",
    "from sklearn.preprocessing import StandardScaler\n",
    "\n",
    "# Create standard scaler object\n",
    "scaler = StandardScaler()\n",
    "\n",
    "# Scale the features in the training data using a previously fitted scaler\n",
    "X_train_s = scaler.fit_transform(X_train)\n",
    "\n",
    "# Scale the features in the test data using the same scaler to ensure consistency\n",
    "X_test_s = scaler.transform(X_test)\n"
   ]
  },
  {
   "cell_type": "markdown",
   "id": "a0e4c3d2-8a8d-45d1-ba03-ad446fe0ca56",
   "metadata": {},
   "source": [
    "#### <b> A) Logistic  regression (test size 0.1 and with feature scaling)"
   ]
  },
  {
   "cell_type": "code",
   "execution_count": 182,
   "id": "f2cfae50-fdfe-4cbd-9cbe-0e298923fa30",
   "metadata": {},
   "outputs": [],
   "source": [
    "#importing required libraries\n",
    "from sklearn.metrics import accuracy_score,confusion_matrix"
   ]
  },
  {
   "cell_type": "code",
   "execution_count": 291,
   "id": "efc0f29d-002f-4545-abf6-e7473d536f97",
   "metadata": {},
   "outputs": [
    {
     "name": "stdout",
     "output_type": "stream",
     "text": [
      "confusion matrix: [[233  14]\n",
      " [ 36  51]]\n",
      "accuracy score: 0.8502994011976048\n"
     ]
    }
   ],
   "source": [
    "#importing logistic regression\n",
    "from sklearn.linear_model import LogisticRegression\n",
    "\n",
    "# Create a LogisticRegression model\n",
    "logistic_clf = LogisticRegression()\n",
    "\n",
    "# Fit the model to the training data\n",
    "logistic_clf.fit(X_train_s, y_train)\n",
    "\n",
    "# Make predictions on the test data\n",
    "logistic_clf_pred = logistic_clf.predict(X_test_s)\n",
    "\n",
    "\n",
    "# Calculate and print the confusion_matrix\n",
    "print(\"confusion matrix:\",confusion_matrix(y_test, logistic_clf_pred))\n",
    "\n",
    "# Calculate and print the accuracy score\n",
    "print(\"accuracy score:\", accuracy_score(y_test, logistic_clf_pred))\n",
    "\n"
   ]
  },
  {
   "cell_type": "markdown",
   "id": "37908f3f-772e-44df-b6f9-1af0213e18d4",
   "metadata": {},
   "source": [
    "#### <b> B) LDA (Linear Disriminant Analysis) (test size 0.1 and with feature scaling)"
   ]
  },
  {
   "cell_type": "code",
   "execution_count": 294,
   "id": "8a5378dc-b4c7-430b-9555-2a75670ea81c",
   "metadata": {},
   "outputs": [
    {
     "name": "stdout",
     "output_type": "stream",
     "text": [
      "confusion matrix: [[230  17]\n",
      " [ 33  54]]\n",
      "accuracy score: 0.8502994011976048\n"
     ]
    }
   ],
   "source": [
    "#importing LDA\n",
    "from sklearn.discriminant_analysis import LinearDiscriminantAnalysis\n",
    "\n",
    "# Create a LDA model = LinearDiscriminantAnalysis()\n",
    "LDA_clf = LinearDiscriminantAnalysis()\n",
    "\n",
    "# Fit the model to the training data\n",
    "LDA_clf.fit(X_train_s, y_train)\n",
    "\n",
    "# Make predictions on the test data\n",
    "LDA_clf_pred = LDA_clf.predict(X_test_s)\n",
    "\n",
    "# Calculate and print the confusion_matrix\n",
    "print(\"confusion matrix:\",confusion_matrix(y_test, LDA_clf_pred))\n",
    "\n",
    "# Calculate and print the accuracy score\n",
    "print(\"accuracy score:\", accuracy_score(y_test, LDA_clf_pred))\n"
   ]
  },
  {
   "cell_type": "markdown",
   "id": "af814cca-79f7-4927-a31f-8b3fd8a68613",
   "metadata": {},
   "source": [
    "#### <b> C) KNN(K-nearest neighbour) (test size 0.1 and with feature scaling)"
   ]
  },
  {
   "cell_type": "code",
   "execution_count": 297,
   "id": "210e5444-a270-4116-a81b-1985d812a4d6",
   "metadata": {},
   "outputs": [
    {
     "name": "stdout",
     "output_type": "stream",
     "text": [
      "confusion matrix: [[221  26]\n",
      " [ 38  49]]\n",
      "accuracy score: 0.8083832335329342\n"
     ]
    }
   ],
   "source": [
    "\n",
    "#importing KNN\n",
    "from sklearn.neighbors import KNeighborsClassifier\n",
    "\n",
    "# Create a variable for fitting model\n",
    "KNN_clf = KNeighborsClassifier(n_neighbors=3)\n",
    "\n",
    "# Fit the model to the training data\n",
    "KNN_clf.fit(X_train_s, y_train)\n",
    "\n",
    "# Make predictions on the test data\n",
    "KNN_clf_pred = KNN_clf.predict(X_test_s)\n",
    "\n",
    "# Calculate and print the confusion_matrix\n",
    "print(\"confusion matrix:\",confusion_matrix(y_test, KNN_clf_pred))\n",
    "\n",
    "# Calculate and print the accuracy score\n",
    "print(\"accuracy score:\", accuracy_score(y_test, KNN_clf_pred))\n"
   ]
  },
  {
   "cell_type": "markdown",
   "id": "b6987312-895e-495e-8f7b-f90411bad3c1",
   "metadata": {},
   "source": [
    "#### <b> D) Decision tree (test size 0.1 and with feature scaling)"
   ]
  },
  {
   "cell_type": "code",
   "execution_count": 310,
   "id": "b90ec610-4fcc-4949-a4fd-cf1f5f2e437c",
   "metadata": {},
   "outputs": [
    {
     "name": "stdout",
     "output_type": "stream",
     "text": [
      "confusion matrix: [[235  12]\n",
      " [ 42  45]]\n",
      "accuracy score: 0.8383233532934131\n"
     ]
    }
   ],
   "source": [
    "# Import DecisionTreeRegressor\n",
    "from sklearn.tree import DecisionTreeClassifier\n",
    "\n",
    "\n",
    "# Create a DecisionTreeClassifier model with best parameters\n",
    "dtc = DecisionTreeClassifier(max_depth=4,min_samples_leaf=100,min_samples_split = 20)\n",
    "\n",
    "# Train the model using the training data\n",
    "dtc.fit(X_train_s, y_train)\n",
    "\n",
    "# Train the model using the training data\n",
    "dtc_pred = dtc.predict(X_test_s)\n",
    "\n",
    "# Calculate and print the confusion_matrix\n",
    "print(\"confusion matrix:\",confusion_matrix(y_test, dtc_pred))\n",
    "\n",
    "# Calculate and print the accuracy score\n",
    "print(\"accuracy score:\", accuracy_score(y_test, dtc_pred))\n"
   ]
  },
  {
   "cell_type": "markdown",
   "id": "591bfa56-9a48-4573-988c-c48520569ea7",
   "metadata": {},
   "source": [
    "### <B> E) Bagging  (test size 0.1 and with feature scaling)"
   ]
  },
  {
   "cell_type": "code",
   "execution_count": 321,
   "id": "a47a4ab1-d68d-4be5-853c-37296929ce7a",
   "metadata": {},
   "outputs": [
    {
     "name": "stdout",
     "output_type": "stream",
     "text": [
      "confusion matrix: [[230  17]\n",
      " [ 35  52]]\n",
      "accuracy score: 0.844311377245509\n"
     ]
    }
   ],
   "source": [
    "#import tree\n",
    "from sklearn import tree\n",
    "\n",
    "\n",
    "# Create a DecisionTreeClassifier mode with best parameters\n",
    "dtc = DecisionTreeClassifier()\n",
    "\n",
    "#importing bagging\n",
    "from sklearn.ensemble import BaggingClassifier\n",
    "\n",
    "# Create bagging with parameter that we dont want to change\n",
    "bgg = BaggingClassifier(estimator= dtc,n_estimators=5000,bootstrap= True ,random_state=42,n_jobs=-1)\n",
    "\n",
    "# Fit model on train data\n",
    "bgg.fit(X_train_s, y_train)\n",
    "\n",
    "# Make prediction on test data\n",
    "bgg_pred = bgg.predict(X_test_s)\n",
    "\n",
    "# Calculate and print the confusion_matrix\n",
    "print(\"confusion matrix:\",confusion_matrix(y_test, bgg_pred))\n",
    "\n",
    "# Calculate and print the accuracy score\n",
    "print(\"accuracy score:\", accuracy_score(y_test, bgg_pred))\n",
    "\n",
    "\n"
   ]
  },
  {
   "cell_type": "markdown",
   "id": "ab61ab41-5dba-4dca-a383-3f94745de193",
   "metadata": {},
   "source": [
    "### <B> F) Random Forest (test size 0.1 and with feature scaling)"
   ]
  },
  {
   "cell_type": "code",
   "execution_count": 345,
   "id": "e1c98d06-05b1-4b04-9053-626fa0f1a5eb",
   "metadata": {},
   "outputs": [
    {
     "name": "stdout",
     "output_type": "stream",
     "text": [
      "confusion matrix: [[240   7]\n",
      " [ 42  45]]\n",
      "accuracy score: 0.8532934131736527\n"
     ]
    }
   ],
   "source": [
    "# Import Random Forest from sklearn\n",
    "from sklearn.ensemble import RandomForestClassifier\n",
    "\n",
    "\n",
    "# Create Random forest Classifier\n",
    "rnd = RandomForestClassifier(n_estimators=5000,n_jobs=-1,random_state=42,max_depth=5)\n",
    "\n",
    "# Fit model on train data\n",
    "rnd.fit(X_train_s, y_train)\n",
    "\n",
    "# Make prediction on test data\n",
    "rnd_pred = rnd.predict(X_test_s)\n",
    "\n",
    "# Calculate and print the confusion_matrix\n",
    "print(\"confusion matrix:\",confusion_matrix(y_test, rnd_pred))\n",
    "\n",
    "# Calculate and print the accuracy score\n",
    "print(\"accuracy score:\", accuracy_score(y_test, rnd_pred))\n",
    "\n"
   ]
  },
  {
   "cell_type": "markdown",
   "id": "ce24417b-8da1-4bc1-962e-68ab089ed17e",
   "metadata": {},
   "source": [
    "#### <B> G) Gradient boost ( With feature scaling test size 0.1)"
   ]
  },
  {
   "cell_type": "code",
   "execution_count": 325,
   "id": "534bdbf0-0ac4-42fd-84e8-967874c9bfb7",
   "metadata": {},
   "outputs": [
    {
     "name": "stdout",
     "output_type": "stream",
     "text": [
      "confusion matrix: [[228  19]\n",
      " [ 37  50]]\n",
      "accuracy score: 0.8323353293413174\n"
     ]
    }
   ],
   "source": [
    "# Import gradient boost from sklearn\n",
    "from sklearn.ensemble import GradientBoostingClassifier\n",
    "\n",
    "# Create gradient boost classifier with hyperparameters\n",
    "gbc = GradientBoostingClassifier(n_estimators=1000,random_state=42,learning_rate=0.02)\n",
    "\n",
    "# Fit model on train data\n",
    "gbc.fit(X_train_s, y_train)\n",
    "\n",
    "# Make prediction on test data\n",
    "gbc_pred = gbc.predict(X_test_s)\n",
    "\n",
    "# Calculate and print the confusion_matrix\n",
    "print(\"confusion matrix:\",confusion_matrix(y_test, gbc_pred))\n",
    "\n",
    "# Calculate and print the accuracy score\n",
    "print(\"accuracy score:\", accuracy_score(y_test, gbc_pred))\n",
    "\n"
   ]
  },
  {
   "cell_type": "markdown",
   "id": "a408ab65-aac6-4c87-a588-f2f9971200ee",
   "metadata": {},
   "source": [
    "#### <B> H) Ada boost ( With feature scaling test size 0.1)"
   ]
  },
  {
   "cell_type": "code",
   "execution_count": 334,
   "id": "d0d5ca6c-6a17-4603-81e6-3ac3d18cb58f",
   "metadata": {},
   "outputs": [
    {
     "name": "stdout",
     "output_type": "stream",
     "text": [
      "confusion matrix: [[240   7]\n",
      " [ 46  41]]\n",
      "accuracy score: 0.8413173652694611\n"
     ]
    }
   ],
   "source": [
    "# Import Ada boost from sklearn\n",
    "from sklearn.ensemble import AdaBoostClassifier\n",
    "\n",
    "# Create Ada boost Classifier with random forest\n",
    "abc = AdaBoostClassifier(learning_rate=0.02,n_estimators = 1000,random_state=42,algorithm='SAMME')\n",
    "\n",
    "# Fit model on train data\n",
    "abc.fit(X_train_s, y_train)\n",
    "\n",
    "# Make prediction on test data\n",
    "abc_pred = abc.predict(X_test_s)\n",
    "\n",
    "# Calculate and print the confusion_matrix\n",
    "print(\"confusion matrix:\",confusion_matrix(y_test, abc_pred))\n",
    "\n",
    "# Calculate and print the accuracy score\n",
    "print(\"accuracy score:\", accuracy_score(y_test, abc_pred))\n",
    "\n"
   ]
  },
  {
   "cell_type": "markdown",
   "id": "28b9ecbd-f5cc-4780-8ca0-e998531ba980",
   "metadata": {},
   "source": [
    "#### <B> H) XG boost ( With feature scaling test size 0.2)"
   ]
  },
  {
   "cell_type": "code",
   "execution_count": 337,
   "id": "22b2b63d-4502-4687-9db7-31d5d856b6fe",
   "metadata": {},
   "outputs": [
    {
     "name": "stdout",
     "output_type": "stream",
     "text": [
      "confusion matrix: [[229  18]\n",
      " [ 38  49]]\n",
      "accuracy score: 0.8323353293413174\n"
     ]
    }
   ],
   "source": [
    "# Import XG boost from sklearn\n",
    "import xgboost as xgb\n",
    "\n",
    "# Create xg boost classifier\n",
    "xgb_clf = xgb.XGBClassifier(n_estimators=1000,learning_rate=0.02,random_state=42,max_depth=3)\n",
    "\n",
    "# Fit model on train data\n",
    "xgb_clf.fit(X_train_s, y_train)\n",
    "\n",
    "# Make prediction on test data\n",
    "xgb_pred = xgb_clf.predict(X_test_s)\n",
    "\n",
    "# Calculate and print the confusion_matrix\n",
    "print(\"confusion matrix:\",confusion_matrix(y_test, xgb_pred))\n",
    "\n",
    "# Calculate and print the accuracy score\n",
    "print(\"accuracy score:\", accuracy_score(y_test, xgb_pred))\n",
    "\n",
    "\n"
   ]
  },
  {
   "cell_type": "markdown",
   "id": "bf8115bc-be39-4d79-b69e-61dc518dd4fd",
   "metadata": {},
   "source": [
    "### <B> 4. Model comparison"
   ]
  },
  {
   "cell_type": "markdown",
   "id": "098cd2b9-07a5-4ef2-8ddd-d7f580901ec8",
   "metadata": {},
   "source": [
    "To compare the performance of different machine learning classification models, We will focus on accuracy score of each model. We will see how much accurate out model is then we will choose best one from all 9 avialable models.\n",
    "\n",
    "<B> Summary in two cases </B>\n",
    "\n",
    "**Case 1 (Test size = 0.2 with sandard scaling):**\n",
    "- <B>Logistic Regression:</B>  accuracy score = 0.8158682634730539\n",
    "- <B>Linear discriminant analysis:</B>  accuracy score= 0.8203592814371258\n",
    "- <B>K-nearest neighbour:</B>  accuracy score= 0.7919161676646707\n",
    "- <B>Decision Tree:</B>  accuracy score= 0.811377245508982\n",
    "- <B>Random Forest: </B> accuracy score= 0.8203592814371258\n",
    "- <B>Bagging : </B> </B> accuracy score= 0.8233532934131736\n",
    "- <B>Gradient boost : </B>  accuracy score= 0.8203592814371258\n",
    "- <B>Adaboost : </B>  accuracy score= 0.8218562874251497\n",
    "- <B>XG Boost :</B>  accuracy score= 0.8158682634730539\n",
    "\n",
    "**Case 2 (Test size = 0.1 with standard scaling):**\n",
    "- <B>Logistic Regression:</B>  accuracy score = 0.8502994011976048\n",
    "- <B>Linear discriminant analysis:</B>  accuracy score= 0.8502994011976048\n",
    "- <B>K-nearest neighbour:</B>  accuracy score= 0.8083832335329342\n",
    "- <B>Decision Tree:</B>  accuracy score= 0.8383233532934131\n",
    "- <B>Random Forest: </B> accuracy score= 0.8532934131736527\n",
    "- <B>Bagging : </B> </B> accuracy score= 0.844311377245509\n",
    "- <B>Gradient boost : </B>  accuracy score= 0.8323353293413174\n",
    "- <B>Adaboost : </B>  accuracy score= 0.8413173652694611\n",
    "- <B>XG Boost :</B>  accuracy score= 0.8323353293413174\n",
    "\n",
    "\n",
    "\n",
    "  \n",
    "**Summary:**\n",
    "- Among the different models, Bagging and Random forest are performing very well ,Althought Linear discriminant analysis perform well also among these\n",
    "  the highest accuracy sore is achived in random forest in the test size 0.1.in test size 0.1 best accuracy is given by Bagging where Random forest and Linear discriminant analysis is too close.\n",
    "- K-nearest neighbour gives lowest accuracy scores in without scaling and test sizes 0.1 and 0.2.\n",
    "- As we know random forest and the XG boost are highly prefrable for rainfall prediction we can change hyperparammeter of our XG boost to increace the accuracy.\n",
    "\n",
    "Overall, if we consider accuracy score as the primary metric for model performance, Random Forest is the top performer, followed by bagging and Linear discriminant analysis. It's essential to consider other factors like computational efficiency, model interpretability, and the specific goals of your application when choosing the best model."
   ]
  },
  {
   "cell_type": "markdown",
   "id": "a7bcbd23-c932-485e-abee-2954bbcc6428",
   "metadata": {},
   "source": [
    "### <B> 5. Future improvement"
   ]
  },
  {
   "cell_type": "markdown",
   "id": "f81babc9-2725-4de3-9ae8-77f561d7919a",
   "metadata": {},
   "source": [
    "#### Steps to increase model performance\n",
    "- **Increase the Number of Trees (Estimators):**\n",
    "    Random Forest's performance often benefits from increasing the number of decision trees (estimators) in the ensemble.\n",
    "- **Tune Hyperparameters:** Perform a more thorough hyperparameter tuning by experimenting with different values for parameters like max_depth, min_samples_split, min_samples_leaf, and max_features. Grid Search or Randomized Search can help find the optimal combination of hyperparameters.\n",
    "- **Feature Selection:** Consider removing or reducing the importance of less informative features to improve the model's efficiency and potentially its performance."
   ]
  },
  {
   "cell_type": "code",
   "execution_count": null,
   "id": "3e3b3c1a-ed78-4418-b7f7-1f6d99e3a366",
   "metadata": {},
   "outputs": [],
   "source": []
  }
 ],
 "metadata": {
  "kernelspec": {
   "display_name": "Python 3 (ipykernel)",
   "language": "python",
   "name": "python3"
  },
  "language_info": {
   "codemirror_mode": {
    "name": "ipython",
    "version": 3
   },
   "file_extension": ".py",
   "mimetype": "text/x-python",
   "name": "python",
   "nbconvert_exporter": "python",
   "pygments_lexer": "ipython3",
   "version": "3.12.4"
  }
 },
 "nbformat": 4,
 "nbformat_minor": 5
}
